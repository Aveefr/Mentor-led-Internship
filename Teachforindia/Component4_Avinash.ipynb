{
 "cells": [
  {
   "cell_type": "code",
   "execution_count": 3,
   "metadata": {},
   "outputs": [],
   "source": [
    "import pandas as pd\n",
    "import numpy as np"
   ]
  },
  {
   "cell_type": "code",
   "execution_count": 4,
   "metadata": {},
   "outputs": [],
   "source": [
    "df = pd.read_csv('df_cleaned.csv', index_col='Unnamed: 0')"
   ]
  },
  {
   "cell_type": "code",
   "execution_count": 5,
   "metadata": {},
   "outputs": [
    {
     "data": {
      "text/html": [
       "<div>\n",
       "<style scoped>\n",
       "    .dataframe tbody tr th:only-of-type {\n",
       "        vertical-align: middle;\n",
       "    }\n",
       "\n",
       "    .dataframe tbody tr th {\n",
       "        vertical-align: top;\n",
       "    }\n",
       "\n",
       "    .dataframe thead th {\n",
       "        text-align: right;\n",
       "    }\n",
       "</style>\n",
       "<table border=\"1\" class=\"dataframe\">\n",
       "  <thead>\n",
       "    <tr style=\"text-align: right;\">\n",
       "      <th></th>\n",
       "      <th>department</th>\n",
       "      <th>region</th>\n",
       "      <th>education</th>\n",
       "      <th>gender</th>\n",
       "      <th>recruitment_channel</th>\n",
       "      <th>no_of_trainings</th>\n",
       "      <th>age</th>\n",
       "      <th>previous_year_rating</th>\n",
       "      <th>length_of_service</th>\n",
       "      <th>KPIs_met &gt;80%</th>\n",
       "      <th>awards_won?</th>\n",
       "      <th>avg_training_score</th>\n",
       "    </tr>\n",
       "  </thead>\n",
       "  <tbody>\n",
       "    <tr>\n",
       "      <th>0</th>\n",
       "      <td>Technology</td>\n",
       "      <td>region_26</td>\n",
       "      <td>Bachelor's</td>\n",
       "      <td>m</td>\n",
       "      <td>sourcing</td>\n",
       "      <td>1</td>\n",
       "      <td>24</td>\n",
       "      <td>3.0</td>\n",
       "      <td>1</td>\n",
       "      <td>1</td>\n",
       "      <td>0</td>\n",
       "      <td>77</td>\n",
       "    </tr>\n",
       "    <tr>\n",
       "      <th>1</th>\n",
       "      <td>HR</td>\n",
       "      <td>region_4</td>\n",
       "      <td>Bachelor's</td>\n",
       "      <td>f</td>\n",
       "      <td>other</td>\n",
       "      <td>1</td>\n",
       "      <td>31</td>\n",
       "      <td>3.0</td>\n",
       "      <td>5</td>\n",
       "      <td>0</td>\n",
       "      <td>0</td>\n",
       "      <td>51</td>\n",
       "    </tr>\n",
       "    <tr>\n",
       "      <th>2</th>\n",
       "      <td>Sales &amp; Marketing</td>\n",
       "      <td>region_13</td>\n",
       "      <td>Bachelor's</td>\n",
       "      <td>m</td>\n",
       "      <td>other</td>\n",
       "      <td>1</td>\n",
       "      <td>31</td>\n",
       "      <td>1.0</td>\n",
       "      <td>4</td>\n",
       "      <td>0</td>\n",
       "      <td>0</td>\n",
       "      <td>47</td>\n",
       "    </tr>\n",
       "    <tr>\n",
       "      <th>3</th>\n",
       "      <td>Procurement</td>\n",
       "      <td>region_2</td>\n",
       "      <td>Bachelor's</td>\n",
       "      <td>f</td>\n",
       "      <td>other</td>\n",
       "      <td>3</td>\n",
       "      <td>31</td>\n",
       "      <td>2.0</td>\n",
       "      <td>9</td>\n",
       "      <td>0</td>\n",
       "      <td>0</td>\n",
       "      <td>65</td>\n",
       "    </tr>\n",
       "    <tr>\n",
       "      <th>4</th>\n",
       "      <td>Finance</td>\n",
       "      <td>region_29</td>\n",
       "      <td>Bachelor's</td>\n",
       "      <td>m</td>\n",
       "      <td>sourcing</td>\n",
       "      <td>1</td>\n",
       "      <td>30</td>\n",
       "      <td>4.0</td>\n",
       "      <td>7</td>\n",
       "      <td>0</td>\n",
       "      <td>0</td>\n",
       "      <td>61</td>\n",
       "    </tr>\n",
       "  </tbody>\n",
       "</table>\n",
       "</div>"
      ],
      "text/plain": [
       "          department     region   education gender recruitment_channel  \\\n",
       "0         Technology  region_26  Bachelor's      m            sourcing   \n",
       "1                 HR   region_4  Bachelor's      f               other   \n",
       "2  Sales & Marketing  region_13  Bachelor's      m               other   \n",
       "3        Procurement   region_2  Bachelor's      f               other   \n",
       "4            Finance  region_29  Bachelor's      m            sourcing   \n",
       "\n",
       "   no_of_trainings  age  previous_year_rating  length_of_service  \\\n",
       "0                1   24                   3.0                  1   \n",
       "1                1   31                   3.0                  5   \n",
       "2                1   31                   1.0                  4   \n",
       "3                3   31                   2.0                  9   \n",
       "4                1   30                   4.0                  7   \n",
       "\n",
       "   KPIs_met >80%  awards_won?  avg_training_score  \n",
       "0              1            0                  77  \n",
       "1              0            0                  51  \n",
       "2              0            0                  47  \n",
       "3              0            0                  65  \n",
       "4              0            0                  61  "
      ]
     },
     "execution_count": 5,
     "metadata": {},
     "output_type": "execute_result"
    }
   ],
   "source": [
    "\n",
    "df.head()"
   ]
  },
  {
   "cell_type": "markdown",
   "metadata": {},
   "source": [
    "### TASK : Data Scaling\n",
    "Scaling is a technique to standardize the independent features present in the data in a fixed range. It is performed during the data pre-processing.\n",
    "\n",
    "In this task, We use the below-mentioned Scalers to check their effect on our data and choose the most appropriate Scaler based on the results. More on Scalers and their purpose has been provided as a resource in the resource hub.\n",
    "\n",
    "RobustScaler, StandardScaler, MinMaxScaler, MaxAbsScaler\n",
    "\n",
    "Create a function to run the given four scalers on your dataset and return the resultant scaled dataset. Make changes to parameters in such a way that you can iterate over various scalers to get datasets."
   ]
  },
  {
   "cell_type": "code",
   "execution_count": 6,
   "metadata": {},
   "outputs": [],
   "source": [
    "from sklearn.preprocessing import RobustScaler, StandardScaler, MinMaxScaler, MaxAbsScaler\n",
    "\n",
    "def scale_data(data, scaler_type='StandardScaler'):\n",
    "    \"\"\"\n",
    "    Scales the data using the specified scaler type.\n",
    "    \n",
    "    Parameters:\n",
    "    - data (pd.DataFrame): The input data to scale.\n",
    "    - scaler_type (str): The type of scaler to use. One of ['RobustScaler', 'StandardScaler', 'MinMaxScaler', 'MaxAbsScaler'].\n",
    "    \n",
    "    Returns:\n",
    "    - scaled_data (pd.DataFrame): The scaled data.\n",
    "    \"\"\"\n",
    "    scalers = {\n",
    "        'RobustScaler': RobustScaler(),\n",
    "        'StandardScaler': StandardScaler(),\n",
    "        'MinMaxScaler': MinMaxScaler(),\n",
    "        'MaxAbsScaler': MaxAbsScaler()\n",
    "    }\n",
    "    \n",
    "    if scaler_type not in scalers:\n",
    "        raise ValueError(f\"Invalid scaler_type. Expected one of {list(scalers.keys())}\")\n",
    "    \n",
    "    scaler = scalers[scaler_type]\n",
    "    \n",
    "    # Selecting only numerical columns for scaling\n",
    "    numerical_cols = data.select_dtypes(include=['int64', 'float64']).columns\n",
    "    data_to_scale = data[numerical_cols]\n",
    "    \n",
    "    # Scaling the data\n",
    "    scaled_data = scaler.fit_transform(data_to_scale)\n",
    "    scaled_df = pd.DataFrame(scaled_data, columns=numerical_cols)\n",
    "    \n",
    "    # Replacing the original columns with scaled columns\n",
    "    data_scaled = data.copy()\n",
    "    data_scaled[numerical_cols] = scaled_df\n",
    "    \n",
    "    return data_scaled"
   ]
  },
  {
   "cell_type": "code",
   "execution_count": 7,
   "metadata": {},
   "outputs": [],
   "source": [
    "scaled_data_standard = scale_data(df, scaler_type='StandardScaler')\n",
    "scaled_data_robust = scale_data(df, scaler_type='RobustScaler')\n",
    "scaled_data_minmax = scale_data(df, scaler_type='MinMaxScaler')\n",
    "scaled_data_maxabs = scale_data(df, scaler_type='MaxAbsScaler')\n"
   ]
  },
  {
   "cell_type": "code",
   "execution_count": 8,
   "metadata": {},
   "outputs": [
    {
     "name": "stdout",
     "output_type": "stream",
     "text": [
      "Standard Scaled Data:\n",
      "          department     region   education gender recruitment_channel  \\\n",
      "0         Technology  region_26  Bachelor's      m            sourcing   \n",
      "1                 HR   region_4  Bachelor's      f               other   \n",
      "2  Sales & Marketing  region_13  Bachelor's      m               other   \n",
      "3        Procurement   region_2  Bachelor's      f               other   \n",
      "4            Finance  region_29  Bachelor's      m            sourcing   \n",
      "\n",
      "   no_of_trainings       age  previous_year_rating  length_of_service  \\\n",
      "0        -0.423094 -1.404150             -0.257191          -1.143200   \n",
      "1        -0.423094 -0.492612             -0.257191          -0.192590   \n",
      "2        -0.423094 -0.492612             -1.900667          -0.430243   \n",
      "3         2.905264 -0.492612             -1.078929           0.758019   \n",
      "4        -0.423094 -0.622832              0.564547           0.282714   \n",
      "\n",
      "   KPIs_met >80%  awards_won?  avg_training_score  \n",
      "0       1.336715    -0.152665            1.024263  \n",
      "1      -0.748103    -0.152665           -0.914377  \n",
      "2      -0.748103    -0.152665           -1.212629  \n",
      "3      -0.748103    -0.152665            0.129506  \n",
      "4      -0.748103    -0.152665           -0.168746  \n"
     ]
    }
   ],
   "source": [
    "print(\"Standard Scaled Data:\")\n",
    "print(scaled_data_standard.head())\n"
   ]
  },
  {
   "cell_type": "code",
   "execution_count": 9,
   "metadata": {},
   "outputs": [
    {
     "name": "stdout",
     "output_type": "stream",
     "text": [
      "\n",
      "Robust Scaled Data:\n",
      "          department     region   education gender recruitment_channel  \\\n",
      "0         Technology  region_26  Bachelor's      m            sourcing   \n",
      "1                 HR   region_4  Bachelor's      f               other   \n",
      "2  Sales & Marketing  region_13  Bachelor's      m               other   \n",
      "3        Procurement   region_2  Bachelor's      f               other   \n",
      "4            Finance  region_29  Bachelor's      m            sourcing   \n",
      "\n",
      "   no_of_trainings  age  previous_year_rating  length_of_service  \\\n",
      "0              0.0 -0.9                   0.0              -1.00   \n",
      "1              0.0 -0.2                   0.0               0.00   \n",
      "2              0.0 -0.2                  -2.0              -0.25   \n",
      "3              2.0 -0.2                  -1.0               1.00   \n",
      "4              0.0 -0.3                   1.0               0.50   \n",
      "\n",
      "   KPIs_met >80%  awards_won?  avg_training_score  \n",
      "0            1.0          0.0                0.68  \n",
      "1            0.0          0.0               -0.36  \n",
      "2            0.0          0.0               -0.52  \n",
      "3            0.0          0.0                0.20  \n",
      "4            0.0          0.0                0.04  \n"
     ]
    }
   ],
   "source": [
    "print(\"\\nRobust Scaled Data:\")\n",
    "print(scaled_data_robust.head())"
   ]
  },
  {
   "cell_type": "code",
   "execution_count": 10,
   "metadata": {},
   "outputs": [
    {
     "name": "stdout",
     "output_type": "stream",
     "text": [
      "\n",
      "MinMax Scaled Data:\n",
      "          department     region   education gender recruitment_channel  \\\n",
      "0         Technology  region_26  Bachelor's      m            sourcing   \n",
      "1                 HR   region_4  Bachelor's      f               other   \n",
      "2  Sales & Marketing  region_13  Bachelor's      m               other   \n",
      "3        Procurement   region_2  Bachelor's      f               other   \n",
      "4            Finance  region_29  Bachelor's      m            sourcing   \n",
      "\n",
      "   no_of_trainings    age  previous_year_rating  length_of_service  \\\n",
      "0             0.00  0.100                  0.50           0.000000   \n",
      "1             0.00  0.275                  0.50           0.121212   \n",
      "2             0.00  0.275                  0.00           0.090909   \n",
      "3             0.25  0.275                  0.25           0.242424   \n",
      "4             0.00  0.250                  0.75           0.181818   \n",
      "\n",
      "   KPIs_met >80%  awards_won?  avg_training_score  \n",
      "0            1.0          0.0            0.633333  \n",
      "1            0.0          0.0            0.200000  \n",
      "2            0.0          0.0            0.133333  \n",
      "3            0.0          0.0            0.433333  \n",
      "4            0.0          0.0            0.366667  \n"
     ]
    }
   ],
   "source": [
    "print(\"\\nMinMax Scaled Data:\")\n",
    "print(scaled_data_minmax.head())"
   ]
  },
  {
   "cell_type": "code",
   "execution_count": 11,
   "metadata": {},
   "outputs": [
    {
     "name": "stdout",
     "output_type": "stream",
     "text": [
      "\n",
      "MaxAbs Scaled Data:\n",
      "          department     region   education gender recruitment_channel  \\\n",
      "0         Technology  region_26  Bachelor's      m            sourcing   \n",
      "1                 HR   region_4  Bachelor's      f               other   \n",
      "2  Sales & Marketing  region_13  Bachelor's      m               other   \n",
      "3        Procurement   region_2  Bachelor's      f               other   \n",
      "4            Finance  region_29  Bachelor's      m            sourcing   \n",
      "\n",
      "   no_of_trainings       age  previous_year_rating  length_of_service  \\\n",
      "0         0.111111  0.400000                   0.6           0.029412   \n",
      "1         0.111111  0.516667                   0.6           0.147059   \n",
      "2         0.111111  0.516667                   0.2           0.117647   \n",
      "3         0.333333  0.516667                   0.4           0.264706   \n",
      "4         0.111111  0.500000                   0.8           0.205882   \n",
      "\n",
      "   KPIs_met >80%  awards_won?  avg_training_score  \n",
      "0            1.0          0.0            0.777778  \n",
      "1            0.0          0.0            0.515152  \n",
      "2            0.0          0.0            0.474747  \n",
      "3            0.0          0.0            0.656566  \n",
      "4            0.0          0.0            0.616162  \n"
     ]
    }
   ],
   "source": [
    "print(\"\\nMaxAbs Scaled Data:\")\n",
    "print(scaled_data_maxabs.head())"
   ]
  },
  {
   "cell_type": "markdown",
   "metadata": {},
   "source": [
    "### Handling categorical values\n"
   ]
  },
  {
   "cell_type": "code",
   "execution_count": 60,
   "metadata": {},
   "outputs": [],
   "source": [
    "from sklearn.preprocessing import OrdinalEncoder, LabelEncoder\n",
    "from sklearn.compose import ColumnTransformer\n",
    "\n",
    "le = LabelEncoder()\n",
    "oe = OrdinalEncoder()"
   ]
  },
  {
   "cell_type": "code",
   "execution_count": 42,
   "metadata": {},
   "outputs": [],
   "source": [
    "df['department'] = le.fit_transform(df['department'])\n",
    "df['region'] = le.fit_transform(df['region'])\n",
    "df['gender'] = le.fit_transform(df['gender'])\n",
    "df['recruitment_channel'] = le.fit_transform(df['recruitment_channel'])"
   ]
  },
  {
   "cell_type": "code",
   "execution_count": 63,
   "metadata": {},
   "outputs": [],
   "source": [
    "df['education'] = oe.fit_transform(df[['education']])"
   ]
  },
  {
   "cell_type": "code",
   "execution_count": 69,
   "metadata": {},
   "outputs": [
    {
     "name": "stdout",
     "output_type": "stream",
     "text": [
      "<class 'pandas.core.frame.DataFrame'>\n",
      "Index: 23490 entries, 0 to 23489\n",
      "Data columns (total 12 columns):\n",
      " #   Column                Non-Null Count  Dtype  \n",
      "---  ------                --------------  -----  \n",
      " 0   department            23490 non-null  int32  \n",
      " 1   region                23490 non-null  int32  \n",
      " 2   education             23490 non-null  float64\n",
      " 3   gender                23490 non-null  int32  \n",
      " 4   recruitment_channel   23490 non-null  int32  \n",
      " 5   no_of_trainings       23490 non-null  int64  \n",
      " 6   age                   23490 non-null  int64  \n",
      " 7   previous_year_rating  23490 non-null  float64\n",
      " 8   length_of_service     23490 non-null  int64  \n",
      " 9   KPIs_met >80%         23490 non-null  int64  \n",
      " 10  awards_won?           23490 non-null  int64  \n",
      " 11  avg_training_score    23490 non-null  int64  \n",
      "dtypes: float64(2), int32(4), int64(6)\n",
      "memory usage: 2.0 MB\n"
     ]
    }
   ],
   "source": [
    "df.info()"
   ]
  },
  {
   "cell_type": "code",
   "execution_count": 78,
   "metadata": {},
   "outputs": [
    {
     "data": {
      "text/html": [
       "<div>\n",
       "<style scoped>\n",
       "    .dataframe tbody tr th:only-of-type {\n",
       "        vertical-align: middle;\n",
       "    }\n",
       "\n",
       "    .dataframe tbody tr th {\n",
       "        vertical-align: top;\n",
       "    }\n",
       "\n",
       "    .dataframe thead th {\n",
       "        text-align: right;\n",
       "    }\n",
       "</style>\n",
       "<table border=\"1\" class=\"dataframe\">\n",
       "  <thead>\n",
       "    <tr style=\"text-align: right;\">\n",
       "      <th></th>\n",
       "      <th>department</th>\n",
       "      <th>region</th>\n",
       "      <th>education</th>\n",
       "      <th>gender</th>\n",
       "      <th>recruitment_channel</th>\n",
       "      <th>no_of_trainings</th>\n",
       "      <th>age</th>\n",
       "      <th>previous_year_rating</th>\n",
       "      <th>length_of_service</th>\n",
       "      <th>KPIs_met &gt;80%</th>\n",
       "      <th>awards_won?</th>\n",
       "      <th>avg_training_score</th>\n",
       "    </tr>\n",
       "  </thead>\n",
       "  <tbody>\n",
       "    <tr>\n",
       "      <th>0</th>\n",
       "      <td>8</td>\n",
       "      <td>18</td>\n",
       "      <td>0.0</td>\n",
       "      <td>1</td>\n",
       "      <td>2</td>\n",
       "      <td>1</td>\n",
       "      <td>24</td>\n",
       "      <td>3.0</td>\n",
       "      <td>1</td>\n",
       "      <td>1</td>\n",
       "      <td>0</td>\n",
       "      <td>77</td>\n",
       "    </tr>\n",
       "    <tr>\n",
       "      <th>1</th>\n",
       "      <td>2</td>\n",
       "      <td>28</td>\n",
       "      <td>0.0</td>\n",
       "      <td>0</td>\n",
       "      <td>0</td>\n",
       "      <td>1</td>\n",
       "      <td>31</td>\n",
       "      <td>3.0</td>\n",
       "      <td>5</td>\n",
       "      <td>0</td>\n",
       "      <td>0</td>\n",
       "      <td>51</td>\n",
       "    </tr>\n",
       "    <tr>\n",
       "      <th>2</th>\n",
       "      <td>7</td>\n",
       "      <td>4</td>\n",
       "      <td>0.0</td>\n",
       "      <td>1</td>\n",
       "      <td>0</td>\n",
       "      <td>1</td>\n",
       "      <td>31</td>\n",
       "      <td>1.0</td>\n",
       "      <td>4</td>\n",
       "      <td>0</td>\n",
       "      <td>0</td>\n",
       "      <td>47</td>\n",
       "    </tr>\n",
       "    <tr>\n",
       "      <th>3</th>\n",
       "      <td>5</td>\n",
       "      <td>11</td>\n",
       "      <td>0.0</td>\n",
       "      <td>0</td>\n",
       "      <td>0</td>\n",
       "      <td>3</td>\n",
       "      <td>31</td>\n",
       "      <td>2.0</td>\n",
       "      <td>9</td>\n",
       "      <td>0</td>\n",
       "      <td>0</td>\n",
       "      <td>65</td>\n",
       "    </tr>\n",
       "    <tr>\n",
       "      <th>4</th>\n",
       "      <td>1</td>\n",
       "      <td>21</td>\n",
       "      <td>0.0</td>\n",
       "      <td>1</td>\n",
       "      <td>2</td>\n",
       "      <td>1</td>\n",
       "      <td>30</td>\n",
       "      <td>4.0</td>\n",
       "      <td>7</td>\n",
       "      <td>0</td>\n",
       "      <td>0</td>\n",
       "      <td>61</td>\n",
       "    </tr>\n",
       "  </tbody>\n",
       "</table>\n",
       "</div>"
      ],
      "text/plain": [
       "   department  region  education  gender  recruitment_channel  \\\n",
       "0           8      18        0.0       1                    2   \n",
       "1           2      28        0.0       0                    0   \n",
       "2           7       4        0.0       1                    0   \n",
       "3           5      11        0.0       0                    0   \n",
       "4           1      21        0.0       1                    2   \n",
       "\n",
       "   no_of_trainings  age  previous_year_rating  length_of_service  \\\n",
       "0                1   24                   3.0                  1   \n",
       "1                1   31                   3.0                  5   \n",
       "2                1   31                   1.0                  4   \n",
       "3                3   31                   2.0                  9   \n",
       "4                1   30                   4.0                  7   \n",
       "\n",
       "   KPIs_met >80%  awards_won?  avg_training_score  \n",
       "0              1            0                  77  \n",
       "1              0            0                  51  \n",
       "2              0            0                  47  \n",
       "3              0            0                  65  \n",
       "4              0            0                  61  "
      ]
     },
     "execution_count": 78,
     "metadata": {},
     "output_type": "execute_result"
    }
   ],
   "source": [
    "df.head()"
   ]
  },
  {
   "cell_type": "markdown",
   "metadata": {},
   "source": [
    "### TASK : Create Baseline ML Model for Binary Classification Problem\n",
    "In this task:\n",
    "\n",
    "We will be using 3 models for this problem -  XGBoost, CatBoost, LightGBM\n",
    "- Run the dataset through XGBoost to predict the target variable and check the accuracy\n",
    "- Run the dataset through CatBoost to predict the target variable and check the accuracy\n",
    "- Run the dataset through LightGBM to predict the target variable and check the accuracy\n"
   ]
  },
  {
   "cell_type": "code",
   "execution_count": 73,
   "metadata": {},
   "outputs": [],
   "source": [
    "X = df.drop(['KPIs_met >80%'], axis=1)\n",
    "y = df['KPIs_met >80%']"
   ]
  },
  {
   "cell_type": "code",
   "execution_count": 74,
   "metadata": {},
   "outputs": [],
   "source": [
    "from sklearn.model_selection import train_test_split\n",
    "\n",
    "X_train, X_test, y_train, y_test = train_test_split(X, y, test_size=0.2, random_state=42)"
   ]
  },
  {
   "cell_type": "code",
   "execution_count": 75,
   "metadata": {},
   "outputs": [
    {
     "name": "stderr",
     "output_type": "stream",
     "text": [
      "c:\\Users\\SUNIL\\anaconda3\\Lib\\site-packages\\xgboost\\core.py:158: UserWarning: [12:53:08] WARNING: C:\\buildkite-agent\\builds\\buildkite-windows-cpu-autoscaling-group-i-06abd128ca6c1688d-1\\xgboost\\xgboost-ci-windows\\src\\learner.cc:740: \n",
      "Parameters: { \"use_label_encoder\" } are not used.\n",
      "\n",
      "  warnings.warn(smsg, UserWarning)\n"
     ]
    },
    {
     "name": "stdout",
     "output_type": "stream",
     "text": [
      "XGBoost Accuracy: 0.6998722860791826\n"
     ]
    }
   ],
   "source": [
    "import xgboost as xgb\n",
    "from sklearn.metrics import accuracy_score\n",
    "\n",
    "# Train the XGBoost model\n",
    "xgb_model = xgb.XGBClassifier(use_label_encoder=False, eval_metric='logloss')\n",
    "xgb_model.fit(X_train, y_train)\n",
    "\n",
    "# Predict and evaluate\n",
    "y_pred_xgb = xgb_model.predict(X_test)\n",
    "accuracy_xgb = accuracy_score(y_test, y_pred_xgb)\n",
    "print(f\"XGBoost Accuracy: {accuracy_xgb}\")\n"
   ]
  },
  {
   "cell_type": "code",
   "execution_count": 76,
   "metadata": {},
   "outputs": [
    {
     "name": "stdout",
     "output_type": "stream",
     "text": [
      "CatBoost Accuracy: 0.7041294167730949\n"
     ]
    }
   ],
   "source": [
    "from catboost import CatBoostClassifier\n",
    "\n",
    "# Train the CatBoost model\n",
    "catboost_model = CatBoostClassifier(silent=True)\n",
    "catboost_model.fit(X_train, y_train)\n",
    "\n",
    "# Predict and evaluate\n",
    "y_pred_catboost = catboost_model.predict(X_test)\n",
    "accuracy_catboost = accuracy_score(y_test, y_pred_catboost)\n",
    "print(f\"CatBoost Accuracy: {accuracy_catboost}\")\n"
   ]
  },
  {
   "cell_type": "code",
   "execution_count": 77,
   "metadata": {},
   "outputs": [
    {
     "name": "stdout",
     "output_type": "stream",
     "text": [
      "[LightGBM] [Info] Number of positive: 6715, number of negative: 12077\n",
      "[LightGBM] [Info] Auto-choosing row-wise multi-threading, the overhead of testing was 0.002392 seconds.\n",
      "You can set `force_row_wise=true` to remove the overhead.\n",
      "And if memory is not enough, you can set `force_col_wise=true`.\n",
      "[LightGBM] [Info] Total Bins 204\n",
      "[LightGBM] [Info] Number of data points in the train set: 18792, number of used features: 11\n",
      "[LightGBM] [Info] [binary:BoostFromScore]: pavg=0.357333 -> initscore=-0.586959\n",
      "[LightGBM] [Info] Start training from score -0.586959\n",
      "LightGBM Accuracy: 0.7075351213282248\n"
     ]
    }
   ],
   "source": [
    "import lightgbm as lgb\n",
    "\n",
    "# Train the LightGBM model\n",
    "lgb_model = lgb.LGBMClassifier()\n",
    "lgb_model.fit(X_train, y_train)\n",
    "\n",
    "# Predict and evaluate\n",
    "y_pred_lgb = lgb_model.predict(X_test)\n",
    "accuracy_lgb = accuracy_score(y_test, y_pred_lgb)\n",
    "print(f\"LightGBM Accuracy: {accuracy_lgb}\")\n"
   ]
  },
  {
   "cell_type": "markdown",
   "metadata": {},
   "source": [
    "TASK\n",
    "Report Results\n",
    "In this task, you need to check for various scalers and check which gives better accuracy.\n",
    "\n",
    "You can follow the below steps:\n",
    "\n",
    "Iterate over the data scaling functions and ML Models to understand which model under which scaling technique is giving better results using the function in Task 1 and the baseline models in Task 2.\n",
    "Document the accuracy using Confusion matrices and determine the best Scaling Function and best model for your dataset."
   ]
  },
  {
   "cell_type": "code",
   "execution_count": null,
   "metadata": {},
   "outputs": [],
   "source": [
    "# Train the XGBoost model\n",
    "xgb_model = xgb.XGBClassifier(use_label_encoder=False, eval_metric='logloss')\n",
    "xgb_model.fit(X_train, y_train)\n",
    "\n",
    "# Predict and evaluate\n",
    "y_pred_xgb = xgb_model.predict(X_test)\n",
    "accuracy_xgb = accuracy_score(y_test, y_pred_xgb)\n",
    "print(f\"XGBoost Accuracy: {accuracy_xgb}\")\n",
    "\n",
    "\n",
    "# Train the CatBoost model\n",
    "catboost_model = CatBoostClassifier(silent=True)\n",
    "catboost_model.fit(X_train, y_train)\n",
    "\n",
    "# Predict and evaluate\n",
    "y_pred_catboost = catboost_model.predict(X_test)\n",
    "accuracy_catboost = accuracy_score(y_test, y_pred_catboost)\n",
    "print(f\"CatBoost Accuracy: {accuracy_catboost}\")\n",
    "\n",
    "\n",
    "# Train the LightGBM model\n",
    "lgb_model = lgb.LGBMClassifier()\n",
    "lgb_model.fit(X_train, y_train)\n",
    "\n",
    "# Predict and evaluate\n",
    "y_pred_lgb = lgb_model.predict(X_test)\n",
    "accuracy_lgb = accuracy_score(y_test, y_pred_lgb)\n",
    "print(f\"LightGBM Accuracy: {accuracy_lgb}\")\n"
   ]
  },
  {
   "cell_type": "code",
   "execution_count": 90,
   "metadata": {},
   "outputs": [],
   "source": [
    "scaled_data_standard = scale_data(df, scaler_type='StandardScaler')\n",
    "scaled_data_minmax = scale_data(df, scaler_type='MinMaxScaler')\n",
    "scaled_data_robust = scale_data(df, scaler_type='RobustScaler')\n",
    "scaled_data_maxabs = scale_data(df, scaler_type='MaxAbsScaler')\n"
   ]
  },
  {
   "cell_type": "code",
   "execution_count": 92,
   "metadata": {},
   "outputs": [
    {
     "data": {
      "text/html": [
       "<div>\n",
       "<style scoped>\n",
       "    .dataframe tbody tr th:only-of-type {\n",
       "        vertical-align: middle;\n",
       "    }\n",
       "\n",
       "    .dataframe tbody tr th {\n",
       "        vertical-align: top;\n",
       "    }\n",
       "\n",
       "    .dataframe thead th {\n",
       "        text-align: right;\n",
       "    }\n",
       "</style>\n",
       "<table border=\"1\" class=\"dataframe\">\n",
       "  <thead>\n",
       "    <tr style=\"text-align: right;\">\n",
       "      <th></th>\n",
       "      <th>department</th>\n",
       "      <th>region</th>\n",
       "      <th>education</th>\n",
       "      <th>gender</th>\n",
       "      <th>recruitment_channel</th>\n",
       "      <th>no_of_trainings</th>\n",
       "      <th>age</th>\n",
       "      <th>previous_year_rating</th>\n",
       "      <th>length_of_service</th>\n",
       "      <th>KPIs_met &gt;80%</th>\n",
       "      <th>awards_won?</th>\n",
       "      <th>avg_training_score</th>\n",
       "    </tr>\n",
       "  </thead>\n",
       "  <tbody>\n",
       "    <tr>\n",
       "      <th>0</th>\n",
       "      <td>8</td>\n",
       "      <td>18</td>\n",
       "      <td>0.0</td>\n",
       "      <td>1</td>\n",
       "      <td>2</td>\n",
       "      <td>1</td>\n",
       "      <td>24</td>\n",
       "      <td>3.0</td>\n",
       "      <td>1</td>\n",
       "      <td>1</td>\n",
       "      <td>0</td>\n",
       "      <td>77</td>\n",
       "    </tr>\n",
       "    <tr>\n",
       "      <th>1</th>\n",
       "      <td>2</td>\n",
       "      <td>28</td>\n",
       "      <td>0.0</td>\n",
       "      <td>0</td>\n",
       "      <td>0</td>\n",
       "      <td>1</td>\n",
       "      <td>31</td>\n",
       "      <td>3.0</td>\n",
       "      <td>5</td>\n",
       "      <td>0</td>\n",
       "      <td>0</td>\n",
       "      <td>51</td>\n",
       "    </tr>\n",
       "  </tbody>\n",
       "</table>\n",
       "</div>"
      ],
      "text/plain": [
       "   department  region  education  gender  recruitment_channel  \\\n",
       "0           8      18        0.0       1                    2   \n",
       "1           2      28        0.0       0                    0   \n",
       "\n",
       "   no_of_trainings  age  previous_year_rating  length_of_service  \\\n",
       "0                1   24                   3.0                  1   \n",
       "1                1   31                   3.0                  5   \n",
       "\n",
       "   KPIs_met >80%  awards_won?  avg_training_score  \n",
       "0              1            0                  77  \n",
       "1              0            0                  51  "
      ]
     },
     "execution_count": 92,
     "metadata": {},
     "output_type": "execute_result"
    }
   ],
   "source": [
    "df.head(2)"
   ]
  },
  {
   "cell_type": "code",
   "execution_count": 103,
   "metadata": {},
   "outputs": [],
   "source": [
    "scaled_data_standard['KPIs_met >80%'] = df['KPIs_met >80%']\n"
   ]
  },
  {
   "cell_type": "markdown",
   "metadata": {},
   "source": [
    "### 1. StandardScaler"
   ]
  },
  {
   "cell_type": "code",
   "execution_count": 104,
   "metadata": {},
   "outputs": [
    {
     "data": {
      "text/html": [
       "<div>\n",
       "<style scoped>\n",
       "    .dataframe tbody tr th:only-of-type {\n",
       "        vertical-align: middle;\n",
       "    }\n",
       "\n",
       "    .dataframe tbody tr th {\n",
       "        vertical-align: top;\n",
       "    }\n",
       "\n",
       "    .dataframe thead th {\n",
       "        text-align: right;\n",
       "    }\n",
       "</style>\n",
       "<table border=\"1\" class=\"dataframe\">\n",
       "  <thead>\n",
       "    <tr style=\"text-align: right;\">\n",
       "      <th></th>\n",
       "      <th>department</th>\n",
       "      <th>region</th>\n",
       "      <th>education</th>\n",
       "      <th>gender</th>\n",
       "      <th>recruitment_channel</th>\n",
       "      <th>no_of_trainings</th>\n",
       "      <th>age</th>\n",
       "      <th>previous_year_rating</th>\n",
       "      <th>length_of_service</th>\n",
       "      <th>KPIs_met &gt;80%</th>\n",
       "      <th>awards_won?</th>\n",
       "      <th>avg_training_score</th>\n",
       "    </tr>\n",
       "  </thead>\n",
       "  <tbody>\n",
       "    <tr>\n",
       "      <th>0</th>\n",
       "      <td>8</td>\n",
       "      <td>18</td>\n",
       "      <td>-0.637366</td>\n",
       "      <td>1</td>\n",
       "      <td>2</td>\n",
       "      <td>-0.423094</td>\n",
       "      <td>-1.404150</td>\n",
       "      <td>-0.257191</td>\n",
       "      <td>-1.14320</td>\n",
       "      <td>1</td>\n",
       "      <td>-0.152665</td>\n",
       "      <td>1.024263</td>\n",
       "    </tr>\n",
       "    <tr>\n",
       "      <th>1</th>\n",
       "      <td>2</td>\n",
       "      <td>28</td>\n",
       "      <td>-0.637366</td>\n",
       "      <td>0</td>\n",
       "      <td>0</td>\n",
       "      <td>-0.423094</td>\n",
       "      <td>-0.492612</td>\n",
       "      <td>-0.257191</td>\n",
       "      <td>-0.19259</td>\n",
       "      <td>0</td>\n",
       "      <td>-0.152665</td>\n",
       "      <td>-0.914377</td>\n",
       "    </tr>\n",
       "  </tbody>\n",
       "</table>\n",
       "</div>"
      ],
      "text/plain": [
       "   department  region  education  gender  recruitment_channel  \\\n",
       "0           8      18  -0.637366       1                    2   \n",
       "1           2      28  -0.637366       0                    0   \n",
       "\n",
       "   no_of_trainings       age  previous_year_rating  length_of_service  \\\n",
       "0        -0.423094 -1.404150             -0.257191           -1.14320   \n",
       "1        -0.423094 -0.492612             -0.257191           -0.19259   \n",
       "\n",
       "   KPIs_met >80%  awards_won?  avg_training_score  \n",
       "0              1    -0.152665            1.024263  \n",
       "1              0    -0.152665           -0.914377  "
      ]
     },
     "execution_count": 104,
     "metadata": {},
     "output_type": "execute_result"
    }
   ],
   "source": [
    "scaled_data_standard.head(2)"
   ]
  },
  {
   "cell_type": "code",
   "execution_count": 84,
   "metadata": {},
   "outputs": [],
   "source": [
    "def scaled_modelling(df):\n",
    "    X = df.drop(['KPIs_met >80%'], axis=1)\n",
    "    y = df['KPIs_met >80%']\n",
    "\n",
    "    X_train, X_test, y_train, y_test = train_test_split(X, y, test_size=0.2, random_state=42)\n",
    "\n",
    "    # Train the XGBoost model\n",
    "    xgb_model = xgb.XGBClassifier(use_label_encoder=False, eval_metric='logloss')\n",
    "    xgb_model.fit(X_train, y_train)\n",
    "\n",
    "    # Predict and evaluate\n",
    "    y_pred_xgb = xgb_model.predict(X_test)\n",
    "    accuracy_xgb = accuracy_score(y_test, y_pred_xgb)\n",
    "    print(f\"XGBoost Accuracy: {accuracy_xgb}\")\n",
    "\n",
    "\n",
    "    # Train the CatBoost model\n",
    "    catboost_model = CatBoostClassifier(silent=True)\n",
    "    catboost_model.fit(X_train, y_train)\n",
    "\n",
    "    # Predict and evaluate\n",
    "    y_pred_catboost = catboost_model.predict(X_test)\n",
    "    accuracy_catboost = accuracy_score(y_test, y_pred_catboost)\n",
    "    print(f\"CatBoost Accuracy: {accuracy_catboost}\")\n",
    "\n",
    "\n",
    "    # Train the LightGBM model\n",
    "    lgb_model = lgb.LGBMClassifier()\n",
    "    lgb_model.fit(X_train, y_train)\n",
    "\n",
    "    # Predict and evaluate\n",
    "    y_pred_lgb = lgb_model.predict(X_test)\n",
    "    accuracy_lgb = accuracy_score(y_test, y_pred_lgb)\n",
    "    print(f\"LightGBM Accuracy: {accuracy_lgb}\")\n"
   ]
  },
  {
   "cell_type": "code",
   "execution_count": 105,
   "metadata": {},
   "outputs": [
    {
     "name": "stderr",
     "output_type": "stream",
     "text": [
      "c:\\Users\\SUNIL\\anaconda3\\Lib\\site-packages\\xgboost\\core.py:158: UserWarning: [13:12:15] WARNING: C:\\buildkite-agent\\builds\\buildkite-windows-cpu-autoscaling-group-i-06abd128ca6c1688d-1\\xgboost\\xgboost-ci-windows\\src\\learner.cc:740: \n",
      "Parameters: { \"use_label_encoder\" } are not used.\n",
      "\n",
      "  warnings.warn(smsg, UserWarning)\n"
     ]
    },
    {
     "name": "stdout",
     "output_type": "stream",
     "text": [
      "XGBoost Accuracy: 0.6998722860791826\n",
      "CatBoost Accuracy: 0.7041294167730949\n",
      "[LightGBM] [Info] Number of positive: 6715, number of negative: 12077\n",
      "[LightGBM] [Info] Auto-choosing row-wise multi-threading, the overhead of testing was 0.000657 seconds.\n",
      "You can set `force_row_wise=true` to remove the overhead.\n",
      "And if memory is not enough, you can set `force_col_wise=true`.\n",
      "[LightGBM] [Info] Total Bins 206\n",
      "[LightGBM] [Info] Number of data points in the train set: 18792, number of used features: 11\n",
      "[LightGBM] [Info] [binary:BoostFromScore]: pavg=0.357333 -> initscore=-0.586959\n",
      "[LightGBM] [Info] Start training from score -0.586959\n",
      "LightGBM Accuracy: 0.7075351213282248\n"
     ]
    }
   ],
   "source": [
    "scaled_modelling(scaled_data_standard)"
   ]
  },
  {
   "cell_type": "markdown",
   "metadata": {},
   "source": [
    "### 2. MinMaxScaler"
   ]
  },
  {
   "cell_type": "code",
   "execution_count": 108,
   "metadata": {},
   "outputs": [
    {
     "data": {
      "text/html": [
       "<div>\n",
       "<style scoped>\n",
       "    .dataframe tbody tr th:only-of-type {\n",
       "        vertical-align: middle;\n",
       "    }\n",
       "\n",
       "    .dataframe tbody tr th {\n",
       "        vertical-align: top;\n",
       "    }\n",
       "\n",
       "    .dataframe thead th {\n",
       "        text-align: right;\n",
       "    }\n",
       "</style>\n",
       "<table border=\"1\" class=\"dataframe\">\n",
       "  <thead>\n",
       "    <tr style=\"text-align: right;\">\n",
       "      <th></th>\n",
       "      <th>department</th>\n",
       "      <th>region</th>\n",
       "      <th>education</th>\n",
       "      <th>gender</th>\n",
       "      <th>recruitment_channel</th>\n",
       "      <th>no_of_trainings</th>\n",
       "      <th>age</th>\n",
       "      <th>previous_year_rating</th>\n",
       "      <th>length_of_service</th>\n",
       "      <th>KPIs_met &gt;80%</th>\n",
       "      <th>awards_won?</th>\n",
       "      <th>avg_training_score</th>\n",
       "    </tr>\n",
       "  </thead>\n",
       "  <tbody>\n",
       "    <tr>\n",
       "      <th>0</th>\n",
       "      <td>8</td>\n",
       "      <td>18</td>\n",
       "      <td>0.0</td>\n",
       "      <td>1</td>\n",
       "      <td>2</td>\n",
       "      <td>0.0</td>\n",
       "      <td>0.100</td>\n",
       "      <td>0.5</td>\n",
       "      <td>0.000000</td>\n",
       "      <td>1.0</td>\n",
       "      <td>0.0</td>\n",
       "      <td>0.633333</td>\n",
       "    </tr>\n",
       "    <tr>\n",
       "      <th>1</th>\n",
       "      <td>2</td>\n",
       "      <td>28</td>\n",
       "      <td>0.0</td>\n",
       "      <td>0</td>\n",
       "      <td>0</td>\n",
       "      <td>0.0</td>\n",
       "      <td>0.275</td>\n",
       "      <td>0.5</td>\n",
       "      <td>0.121212</td>\n",
       "      <td>0.0</td>\n",
       "      <td>0.0</td>\n",
       "      <td>0.200000</td>\n",
       "    </tr>\n",
       "  </tbody>\n",
       "</table>\n",
       "</div>"
      ],
      "text/plain": [
       "   department  region  education  gender  recruitment_channel  \\\n",
       "0           8      18        0.0       1                    2   \n",
       "1           2      28        0.0       0                    0   \n",
       "\n",
       "   no_of_trainings    age  previous_year_rating  length_of_service  \\\n",
       "0              0.0  0.100                   0.5           0.000000   \n",
       "1              0.0  0.275                   0.5           0.121212   \n",
       "\n",
       "   KPIs_met >80%  awards_won?  avg_training_score  \n",
       "0            1.0          0.0            0.633333  \n",
       "1            0.0          0.0            0.200000  "
      ]
     },
     "execution_count": 108,
     "metadata": {},
     "output_type": "execute_result"
    }
   ],
   "source": [
    "scaled_data_minmax.head(2)"
   ]
  },
  {
   "cell_type": "code",
   "execution_count": 109,
   "metadata": {},
   "outputs": [
    {
     "name": "stderr",
     "output_type": "stream",
     "text": [
      "c:\\Users\\SUNIL\\anaconda3\\Lib\\site-packages\\xgboost\\core.py:158: UserWarning: [13:13:37] WARNING: C:\\buildkite-agent\\builds\\buildkite-windows-cpu-autoscaling-group-i-06abd128ca6c1688d-1\\xgboost\\xgboost-ci-windows\\src\\learner.cc:740: \n",
      "Parameters: { \"use_label_encoder\" } are not used.\n",
      "\n",
      "  warnings.warn(smsg, UserWarning)\n"
     ]
    },
    {
     "name": "stdout",
     "output_type": "stream",
     "text": [
      "XGBoost Accuracy: 0.6998722860791826\n",
      "CatBoost Accuracy: 0.7041294167730949\n",
      "[LightGBM] [Info] Number of positive: 6715, number of negative: 12077\n",
      "[LightGBM] [Info] Auto-choosing row-wise multi-threading, the overhead of testing was 0.001204 seconds.\n",
      "You can set `force_row_wise=true` to remove the overhead.\n",
      "And if memory is not enough, you can set `force_col_wise=true`.\n",
      "[LightGBM] [Info] Total Bins 200\n",
      "[LightGBM] [Info] Number of data points in the train set: 18792, number of used features: 11\n",
      "[LightGBM] [Info] [binary:BoostFromScore]: pavg=0.357333 -> initscore=-0.586959\n",
      "[LightGBM] [Info] Start training from score -0.586959\n",
      "LightGBM Accuracy: 0.7075351213282248\n"
     ]
    }
   ],
   "source": [
    "scaled_modelling(scaled_data_minmax)"
   ]
  },
  {
   "cell_type": "markdown",
   "metadata": {},
   "source": [
    "### 3. RobustScaler"
   ]
  },
  {
   "cell_type": "code",
   "execution_count": 111,
   "metadata": {},
   "outputs": [
    {
     "data": {
      "text/html": [
       "<div>\n",
       "<style scoped>\n",
       "    .dataframe tbody tr th:only-of-type {\n",
       "        vertical-align: middle;\n",
       "    }\n",
       "\n",
       "    .dataframe tbody tr th {\n",
       "        vertical-align: top;\n",
       "    }\n",
       "\n",
       "    .dataframe thead th {\n",
       "        text-align: right;\n",
       "    }\n",
       "</style>\n",
       "<table border=\"1\" class=\"dataframe\">\n",
       "  <thead>\n",
       "    <tr style=\"text-align: right;\">\n",
       "      <th></th>\n",
       "      <th>department</th>\n",
       "      <th>region</th>\n",
       "      <th>education</th>\n",
       "      <th>gender</th>\n",
       "      <th>recruitment_channel</th>\n",
       "      <th>no_of_trainings</th>\n",
       "      <th>age</th>\n",
       "      <th>previous_year_rating</th>\n",
       "      <th>length_of_service</th>\n",
       "      <th>KPIs_met &gt;80%</th>\n",
       "      <th>awards_won?</th>\n",
       "      <th>avg_training_score</th>\n",
       "    </tr>\n",
       "  </thead>\n",
       "  <tbody>\n",
       "    <tr>\n",
       "      <th>0</th>\n",
       "      <td>8</td>\n",
       "      <td>18</td>\n",
       "      <td>0.0</td>\n",
       "      <td>1</td>\n",
       "      <td>2</td>\n",
       "      <td>0.0</td>\n",
       "      <td>-0.9</td>\n",
       "      <td>0.0</td>\n",
       "      <td>-1.0</td>\n",
       "      <td>1.0</td>\n",
       "      <td>0.0</td>\n",
       "      <td>0.68</td>\n",
       "    </tr>\n",
       "    <tr>\n",
       "      <th>1</th>\n",
       "      <td>2</td>\n",
       "      <td>28</td>\n",
       "      <td>0.0</td>\n",
       "      <td>0</td>\n",
       "      <td>0</td>\n",
       "      <td>0.0</td>\n",
       "      <td>-0.2</td>\n",
       "      <td>0.0</td>\n",
       "      <td>0.0</td>\n",
       "      <td>0.0</td>\n",
       "      <td>0.0</td>\n",
       "      <td>-0.36</td>\n",
       "    </tr>\n",
       "  </tbody>\n",
       "</table>\n",
       "</div>"
      ],
      "text/plain": [
       "   department  region  education  gender  recruitment_channel  \\\n",
       "0           8      18        0.0       1                    2   \n",
       "1           2      28        0.0       0                    0   \n",
       "\n",
       "   no_of_trainings  age  previous_year_rating  length_of_service  \\\n",
       "0              0.0 -0.9                   0.0               -1.0   \n",
       "1              0.0 -0.2                   0.0                0.0   \n",
       "\n",
       "   KPIs_met >80%  awards_won?  avg_training_score  \n",
       "0            1.0          0.0                0.68  \n",
       "1            0.0          0.0               -0.36  "
      ]
     },
     "execution_count": 111,
     "metadata": {},
     "output_type": "execute_result"
    }
   ],
   "source": [
    "scaled_data_robust.head(2)"
   ]
  },
  {
   "cell_type": "code",
   "execution_count": 112,
   "metadata": {},
   "outputs": [
    {
     "name": "stderr",
     "output_type": "stream",
     "text": [
      "c:\\Users\\SUNIL\\anaconda3\\Lib\\site-packages\\xgboost\\core.py:158: UserWarning: [13:14:53] WARNING: C:\\buildkite-agent\\builds\\buildkite-windows-cpu-autoscaling-group-i-06abd128ca6c1688d-1\\xgboost\\xgboost-ci-windows\\src\\learner.cc:740: \n",
      "Parameters: { \"use_label_encoder\" } are not used.\n",
      "\n",
      "  warnings.warn(smsg, UserWarning)\n"
     ]
    },
    {
     "name": "stdout",
     "output_type": "stream",
     "text": [
      "XGBoost Accuracy: 0.6998722860791826\n",
      "CatBoost Accuracy: 0.7041294167730949\n",
      "[LightGBM] [Info] Number of positive: 6715, number of negative: 12077\n",
      "[LightGBM] [Info] Auto-choosing row-wise multi-threading, the overhead of testing was 0.001096 seconds.\n",
      "You can set `force_row_wise=true` to remove the overhead.\n",
      "And if memory is not enough, you can set `force_col_wise=true`.\n",
      "[LightGBM] [Info] Total Bins 199\n",
      "[LightGBM] [Info] Number of data points in the train set: 18792, number of used features: 11\n",
      "[LightGBM] [Info] [binary:BoostFromScore]: pavg=0.357333 -> initscore=-0.586959\n",
      "[LightGBM] [Info] Start training from score -0.586959\n",
      "LightGBM Accuracy: 0.7075351213282248\n"
     ]
    }
   ],
   "source": [
    "scaled_modelling(scaled_data_robust)"
   ]
  },
  {
   "cell_type": "markdown",
   "metadata": {},
   "source": [
    "### 4. MaxAbsScaler"
   ]
  },
  {
   "cell_type": "code",
   "execution_count": 114,
   "metadata": {},
   "outputs": [
    {
     "data": {
      "text/html": [
       "<div>\n",
       "<style scoped>\n",
       "    .dataframe tbody tr th:only-of-type {\n",
       "        vertical-align: middle;\n",
       "    }\n",
       "\n",
       "    .dataframe tbody tr th {\n",
       "        vertical-align: top;\n",
       "    }\n",
       "\n",
       "    .dataframe thead th {\n",
       "        text-align: right;\n",
       "    }\n",
       "</style>\n",
       "<table border=\"1\" class=\"dataframe\">\n",
       "  <thead>\n",
       "    <tr style=\"text-align: right;\">\n",
       "      <th></th>\n",
       "      <th>department</th>\n",
       "      <th>region</th>\n",
       "      <th>education</th>\n",
       "      <th>gender</th>\n",
       "      <th>recruitment_channel</th>\n",
       "      <th>no_of_trainings</th>\n",
       "      <th>age</th>\n",
       "      <th>previous_year_rating</th>\n",
       "      <th>length_of_service</th>\n",
       "      <th>KPIs_met &gt;80%</th>\n",
       "      <th>awards_won?</th>\n",
       "      <th>avg_training_score</th>\n",
       "    </tr>\n",
       "  </thead>\n",
       "  <tbody>\n",
       "    <tr>\n",
       "      <th>0</th>\n",
       "      <td>8</td>\n",
       "      <td>18</td>\n",
       "      <td>0.0</td>\n",
       "      <td>1</td>\n",
       "      <td>2</td>\n",
       "      <td>0.111111</td>\n",
       "      <td>0.400000</td>\n",
       "      <td>0.6</td>\n",
       "      <td>0.029412</td>\n",
       "      <td>1.0</td>\n",
       "      <td>0.0</td>\n",
       "      <td>0.777778</td>\n",
       "    </tr>\n",
       "    <tr>\n",
       "      <th>1</th>\n",
       "      <td>2</td>\n",
       "      <td>28</td>\n",
       "      <td>0.0</td>\n",
       "      <td>0</td>\n",
       "      <td>0</td>\n",
       "      <td>0.111111</td>\n",
       "      <td>0.516667</td>\n",
       "      <td>0.6</td>\n",
       "      <td>0.147059</td>\n",
       "      <td>0.0</td>\n",
       "      <td>0.0</td>\n",
       "      <td>0.515152</td>\n",
       "    </tr>\n",
       "  </tbody>\n",
       "</table>\n",
       "</div>"
      ],
      "text/plain": [
       "   department  region  education  gender  recruitment_channel  \\\n",
       "0           8      18        0.0       1                    2   \n",
       "1           2      28        0.0       0                    0   \n",
       "\n",
       "   no_of_trainings       age  previous_year_rating  length_of_service  \\\n",
       "0         0.111111  0.400000                   0.6           0.029412   \n",
       "1         0.111111  0.516667                   0.6           0.147059   \n",
       "\n",
       "   KPIs_met >80%  awards_won?  avg_training_score  \n",
       "0            1.0          0.0            0.777778  \n",
       "1            0.0          0.0            0.515152  "
      ]
     },
     "execution_count": 114,
     "metadata": {},
     "output_type": "execute_result"
    }
   ],
   "source": [
    "scaled_data_maxabs.head(2)"
   ]
  },
  {
   "cell_type": "code",
   "execution_count": 115,
   "metadata": {},
   "outputs": [
    {
     "name": "stderr",
     "output_type": "stream",
     "text": [
      "c:\\Users\\SUNIL\\anaconda3\\Lib\\site-packages\\xgboost\\core.py:158: UserWarning: [13:16:02] WARNING: C:\\buildkite-agent\\builds\\buildkite-windows-cpu-autoscaling-group-i-06abd128ca6c1688d-1\\xgboost\\xgboost-ci-windows\\src\\learner.cc:740: \n",
      "Parameters: { \"use_label_encoder\" } are not used.\n",
      "\n",
      "  warnings.warn(smsg, UserWarning)\n"
     ]
    },
    {
     "name": "stdout",
     "output_type": "stream",
     "text": [
      "XGBoost Accuracy: 0.6998722860791826\n",
      "CatBoost Accuracy: 0.7041294167730949\n",
      "[LightGBM] [Info] Number of positive: 6715, number of negative: 12077\n",
      "[LightGBM] [Info] Auto-choosing row-wise multi-threading, the overhead of testing was 0.000657 seconds.\n",
      "You can set `force_row_wise=true` to remove the overhead.\n",
      "And if memory is not enough, you can set `force_col_wise=true`.\n",
      "[LightGBM] [Info] Total Bins 204\n",
      "[LightGBM] [Info] Number of data points in the train set: 18792, number of used features: 11\n",
      "[LightGBM] [Info] [binary:BoostFromScore]: pavg=0.357333 -> initscore=-0.586959\n",
      "[LightGBM] [Info] Start training from score -0.586959\n",
      "LightGBM Accuracy: 0.7075351213282248\n"
     ]
    }
   ],
   "source": [
    "scaled_modelling(scaled_data_maxabs)"
   ]
  }
 ],
 "metadata": {
  "kernelspec": {
   "display_name": "base",
   "language": "python",
   "name": "python3"
  },
  "language_info": {
   "codemirror_mode": {
    "name": "ipython",
    "version": 3
   },
   "file_extension": ".py",
   "mimetype": "text/x-python",
   "name": "python",
   "nbconvert_exporter": "python",
   "pygments_lexer": "ipython3",
   "version": "3.11.4"
  }
 },
 "nbformat": 4,
 "nbformat_minor": 2
}
