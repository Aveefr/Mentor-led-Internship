{
  "cells": [
    {
      "cell_type": "markdown",
      "metadata": {
        "colab_type": "text",
        "id": "view-in-github"
      },
      "source": [
        "<a href=\"https://colab.research.google.com/github/Aveefr/Mentor-led-Internship/blob/main/Uber/uber%2Btraffic_Avinash.ipynb\" target=\"_parent\"><img src=\"https://colab.research.google.com/assets/colab-badge.svg\" alt=\"Open In Colab\"/></a>"
      ]
    },
    {
      "cell_type": "markdown",
      "metadata": {
        "id": "kIBpoulgpHTf"
      },
      "source": [
        "## TASK: Data Cleaning & Pre-processing"
      ]
    },
    {
      "cell_type": "code",
      "execution_count": 133,
      "metadata": {
        "id": "pSWyk4umpHTi"
      },
      "outputs": [],
      "source": [
        "import pandas as pd\n",
        "import numpy as np\n",
        "import seaborn as sns\n",
        "import matplotlib.pyplot as plt"
      ]
    },
    {
      "cell_type": "markdown",
      "metadata": {
        "id": "omvpF-YfpHTk"
      },
      "source": [
        "### Load Raw Data:\n",
        "Read the collected data into pandas DataFrames."
      ]
    },
    {
      "cell_type": "code",
      "execution_count": 134,
      "metadata": {
        "id": "SsSVvM1ipHTl"
      },
      "outputs": [],
      "source": [
        "df = pd.read_csv('Dataset_Uber Traffic.csv')"
      ]
    },
    {
      "cell_type": "code",
      "execution_count": 135,
      "metadata": {
        "id": "bvYgtCt7pHTl",
        "outputId": "c2f0743f-eee3-4ef6-da08-d97297c0f32f"
      },
      "outputs": [
        {
          "data": {
            "text/plain": [
              "(48120, 4)"
            ]
          },
          "execution_count": 135,
          "metadata": {},
          "output_type": "execute_result"
        }
      ],
      "source": [
        "df.shape"
      ]
    },
    {
      "cell_type": "code",
      "execution_count": 136,
      "metadata": {
        "id": "6ZRRFYZEpHTn",
        "outputId": "99a2215a-17fe-4ad8-bcc6-2cec339c3b21"
      },
      "outputs": [
        {
          "data": {
            "text/html": [
              "<div>\n",
              "<style scoped>\n",
              "    .dataframe tbody tr th:only-of-type {\n",
              "        vertical-align: middle;\n",
              "    }\n",
              "\n",
              "    .dataframe tbody tr th {\n",
              "        vertical-align: top;\n",
              "    }\n",
              "\n",
              "    .dataframe thead th {\n",
              "        text-align: right;\n",
              "    }\n",
              "</style>\n",
              "<table border=\"1\" class=\"dataframe\">\n",
              "  <thead>\n",
              "    <tr style=\"text-align: right;\">\n",
              "      <th></th>\n",
              "      <th>DateTime</th>\n",
              "      <th>Junction</th>\n",
              "      <th>Vehicles</th>\n",
              "      <th>ID</th>\n",
              "    </tr>\n",
              "  </thead>\n",
              "  <tbody>\n",
              "    <tr>\n",
              "      <th>0</th>\n",
              "      <td>01/11/15 0:00</td>\n",
              "      <td>1</td>\n",
              "      <td>15</td>\n",
              "      <td>20151101001</td>\n",
              "    </tr>\n",
              "    <tr>\n",
              "      <th>1</th>\n",
              "      <td>01/11/15 1:00</td>\n",
              "      <td>1</td>\n",
              "      <td>13</td>\n",
              "      <td>20151101011</td>\n",
              "    </tr>\n",
              "    <tr>\n",
              "      <th>2</th>\n",
              "      <td>01/11/15 2:00</td>\n",
              "      <td>1</td>\n",
              "      <td>10</td>\n",
              "      <td>20151101021</td>\n",
              "    </tr>\n",
              "    <tr>\n",
              "      <th>3</th>\n",
              "      <td>01/11/15 3:00</td>\n",
              "      <td>1</td>\n",
              "      <td>7</td>\n",
              "      <td>20151101031</td>\n",
              "    </tr>\n",
              "    <tr>\n",
              "      <th>4</th>\n",
              "      <td>01/11/15 4:00</td>\n",
              "      <td>1</td>\n",
              "      <td>9</td>\n",
              "      <td>20151101041</td>\n",
              "    </tr>\n",
              "  </tbody>\n",
              "</table>\n",
              "</div>"
            ],
            "text/plain": [
              "        DateTime  Junction  Vehicles           ID\n",
              "0  01/11/15 0:00         1        15  20151101001\n",
              "1  01/11/15 1:00         1        13  20151101011\n",
              "2  01/11/15 2:00         1        10  20151101021\n",
              "3  01/11/15 3:00         1         7  20151101031\n",
              "4  01/11/15 4:00         1         9  20151101041"
            ]
          },
          "execution_count": 136,
          "metadata": {},
          "output_type": "execute_result"
        }
      ],
      "source": [
        "df.head()"
      ]
    },
    {
      "cell_type": "markdown",
      "metadata": {
        "id": "tbWKePP4pHTo"
      },
      "source": [
        "### Clean Data:\n",
        "1. Handle missing values using methods like imputation or removal (df.fillna(), df.dropna()).\n",
        "2. Remove duplicates (df.drop_duplicates()).\n",
        "3. Correct data types (df.astype()).\n"
      ]
    },
    {
      "cell_type": "code",
      "execution_count": 137,
      "metadata": {
        "id": "MsDv_KJVpHTo",
        "outputId": "f941472f-fa99-48fa-a20c-c1502ae448c6"
      },
      "outputs": [
        {
          "data": {
            "text/plain": [
              "DateTime    0.0\n",
              "Junction    0.0\n",
              "Vehicles    0.0\n",
              "ID          0.0\n",
              "dtype: float64"
            ]
          },
          "execution_count": 137,
          "metadata": {},
          "output_type": "execute_result"
        }
      ],
      "source": [
        "# 1. Handle missing values using methods like imputation or removal (df.fillna(), df.dropna()).\n",
        "\n",
        "df.isnull().mean()*100"
      ]
    },
    {
      "cell_type": "markdown",
      "metadata": {
        "id": "fID_4GBSpHTp"
      },
      "source": [
        "Observation: There are no missing values"
      ]
    },
    {
      "cell_type": "code",
      "execution_count": 138,
      "metadata": {
        "id": "tda8nCDEpHTp",
        "outputId": "019c812a-2bf5-4d3c-d756-50b2f91f0bff"
      },
      "outputs": [
        {
          "data": {
            "text/plain": [
              "0"
            ]
          },
          "execution_count": 138,
          "metadata": {},
          "output_type": "execute_result"
        }
      ],
      "source": [
        "#2. Remove duplicates (df.drop_duplicates()).\n",
        "\n",
        "df.duplicated().sum()"
      ]
    },
    {
      "cell_type": "markdown",
      "metadata": {
        "id": "Pnnj05z8pHTq"
      },
      "source": [
        "Observation: There are no duplicate rows"
      ]
    },
    {
      "cell_type": "code",
      "execution_count": 139,
      "metadata": {
        "id": "QJcbz919pHTq"
      },
      "outputs": [],
      "source": [
        "# 3. Correct data types (df.astype())."
      ]
    },
    {
      "cell_type": "code",
      "execution_count": 140,
      "metadata": {
        "id": "rA329Rc9pHTr",
        "outputId": "03f72b82-87b8-4225-c051-2a19979d995f"
      },
      "outputs": [
        {
          "data": {
            "text/plain": [
              "DateTime    object\n",
              "Junction     int64\n",
              "Vehicles     int64\n",
              "ID           int64\n",
              "dtype: object"
            ]
          },
          "execution_count": 140,
          "metadata": {},
          "output_type": "execute_result"
        }
      ],
      "source": [
        "df.dtypes"
      ]
    },
    {
      "cell_type": "code",
      "execution_count": 141,
      "metadata": {
        "id": "yftjTzLnpHTr"
      },
      "outputs": [],
      "source": [
        "df['DateTime'] = df['DateTime'].astype('datetime64[ns]')"
      ]
    },
    {
      "cell_type": "code",
      "execution_count": 142,
      "metadata": {
        "id": "PBGA07ubpHTr",
        "outputId": "75ab177c-82db-42f4-9ff8-aa1482ca48bf"
      },
      "outputs": [
        {
          "data": {
            "text/plain": [
              "DateTime    datetime64[ns]\n",
              "Junction             int64\n",
              "Vehicles             int64\n",
              "ID                   int64\n",
              "dtype: object"
            ]
          },
          "execution_count": 142,
          "metadata": {},
          "output_type": "execute_result"
        }
      ],
      "source": [
        "df.dtypes"
      ]
    },
    {
      "cell_type": "markdown",
      "metadata": {
        "id": "IJoYcrTRpHTs"
      },
      "source": [
        "### Aggregate traffic data:\n",
        "- Compile traffic data into hourly intervals for each junction.\n",
        "- Ensure data includes relevant details such as vehicle counts."
      ]
    },
    {
      "cell_type": "code",
      "execution_count": 143,
      "metadata": {
        "id": "RMCP4mICpHTs"
      },
      "outputs": [],
      "source": [
        "df['Hour'] = df.DateTime.dt.hour\n",
        "df['Date'] = df.DateTime.dt.date"
      ]
    },
    {
      "cell_type": "code",
      "execution_count": 144,
      "metadata": {
        "id": "zTfXHSzopHTs",
        "outputId": "f6899110-f399-4206-8812-fcdc974a6aaf"
      },
      "outputs": [
        {
          "data": {
            "text/html": [
              "<div>\n",
              "<style scoped>\n",
              "    .dataframe tbody tr th:only-of-type {\n",
              "        vertical-align: middle;\n",
              "    }\n",
              "\n",
              "    .dataframe tbody tr th {\n",
              "        vertical-align: top;\n",
              "    }\n",
              "\n",
              "    .dataframe thead th {\n",
              "        text-align: right;\n",
              "    }\n",
              "</style>\n",
              "<table border=\"1\" class=\"dataframe\">\n",
              "  <thead>\n",
              "    <tr style=\"text-align: right;\">\n",
              "      <th></th>\n",
              "      <th>DateTime</th>\n",
              "      <th>Junction</th>\n",
              "      <th>Vehicles</th>\n",
              "      <th>ID</th>\n",
              "      <th>Hour</th>\n",
              "      <th>Date</th>\n",
              "    </tr>\n",
              "  </thead>\n",
              "  <tbody>\n",
              "    <tr>\n",
              "      <th>0</th>\n",
              "      <td>2015-01-11 00:00:00</td>\n",
              "      <td>1</td>\n",
              "      <td>15</td>\n",
              "      <td>20151101001</td>\n",
              "      <td>0</td>\n",
              "      <td>2015-01-11</td>\n",
              "    </tr>\n",
              "    <tr>\n",
              "      <th>1</th>\n",
              "      <td>2015-01-11 01:00:00</td>\n",
              "      <td>1</td>\n",
              "      <td>13</td>\n",
              "      <td>20151101011</td>\n",
              "      <td>1</td>\n",
              "      <td>2015-01-11</td>\n",
              "    </tr>\n",
              "    <tr>\n",
              "      <th>2</th>\n",
              "      <td>2015-01-11 02:00:00</td>\n",
              "      <td>1</td>\n",
              "      <td>10</td>\n",
              "      <td>20151101021</td>\n",
              "      <td>2</td>\n",
              "      <td>2015-01-11</td>\n",
              "    </tr>\n",
              "    <tr>\n",
              "      <th>3</th>\n",
              "      <td>2015-01-11 03:00:00</td>\n",
              "      <td>1</td>\n",
              "      <td>7</td>\n",
              "      <td>20151101031</td>\n",
              "      <td>3</td>\n",
              "      <td>2015-01-11</td>\n",
              "    </tr>\n",
              "    <tr>\n",
              "      <th>4</th>\n",
              "      <td>2015-01-11 04:00:00</td>\n",
              "      <td>1</td>\n",
              "      <td>9</td>\n",
              "      <td>20151101041</td>\n",
              "      <td>4</td>\n",
              "      <td>2015-01-11</td>\n",
              "    </tr>\n",
              "  </tbody>\n",
              "</table>\n",
              "</div>"
            ],
            "text/plain": [
              "             DateTime  Junction  Vehicles           ID  Hour        Date\n",
              "0 2015-01-11 00:00:00         1        15  20151101001     0  2015-01-11\n",
              "1 2015-01-11 01:00:00         1        13  20151101011     1  2015-01-11\n",
              "2 2015-01-11 02:00:00         1        10  20151101021     2  2015-01-11\n",
              "3 2015-01-11 03:00:00         1         7  20151101031     3  2015-01-11\n",
              "4 2015-01-11 04:00:00         1         9  20151101041     4  2015-01-11"
            ]
          },
          "execution_count": 144,
          "metadata": {},
          "output_type": "execute_result"
        }
      ],
      "source": [
        "df.head()"
      ]
    },
    {
      "cell_type": "code",
      "execution_count": 145,
      "metadata": {
        "id": "0gG5b94JpHTs",
        "outputId": "50990c91-3057-4223-d0e1-885d1673b8b0"
      },
      "outputs": [
        {
          "data": {
            "text/plain": [
              "Junction\n",
              "1    14592\n",
              "2    14592\n",
              "3    14592\n",
              "4     4344\n",
              "Name: count, dtype: int64"
            ]
          },
          "execution_count": 145,
          "metadata": {},
          "output_type": "execute_result"
        }
      ],
      "source": [
        "df.Junction.value_counts()"
      ]
    },
    {
      "cell_type": "code",
      "execution_count": 146,
      "metadata": {
        "id": "s4qMqiPJpHTs"
      },
      "outputs": [],
      "source": [
        "df_grouped = df.groupby(['Junction', 'Date', 'Hour'])['Vehicles'].sum().reset_index()"
      ]
    },
    {
      "cell_type": "code",
      "execution_count": 147,
      "metadata": {
        "id": "ZALP3q-opHTs",
        "outputId": "9d4bf5c0-ccca-4dcf-f9ae-7bd45eb9e7e2"
      },
      "outputs": [
        {
          "data": {
            "text/html": [
              "<div>\n",
              "<style scoped>\n",
              "    .dataframe tbody tr th:only-of-type {\n",
              "        vertical-align: middle;\n",
              "    }\n",
              "\n",
              "    .dataframe tbody tr th {\n",
              "        vertical-align: top;\n",
              "    }\n",
              "\n",
              "    .dataframe thead th {\n",
              "        text-align: right;\n",
              "    }\n",
              "</style>\n",
              "<table border=\"1\" class=\"dataframe\">\n",
              "  <thead>\n",
              "    <tr style=\"text-align: right;\">\n",
              "      <th></th>\n",
              "      <th>Junction</th>\n",
              "      <th>Date</th>\n",
              "      <th>Hour</th>\n",
              "      <th>Vehicles</th>\n",
              "    </tr>\n",
              "  </thead>\n",
              "  <tbody>\n",
              "    <tr>\n",
              "      <th>0</th>\n",
              "      <td>1</td>\n",
              "      <td>2015-01-11</td>\n",
              "      <td>0</td>\n",
              "      <td>15</td>\n",
              "    </tr>\n",
              "    <tr>\n",
              "      <th>1</th>\n",
              "      <td>1</td>\n",
              "      <td>2015-01-11</td>\n",
              "      <td>1</td>\n",
              "      <td>13</td>\n",
              "    </tr>\n",
              "    <tr>\n",
              "      <th>2</th>\n",
              "      <td>1</td>\n",
              "      <td>2015-01-11</td>\n",
              "      <td>2</td>\n",
              "      <td>10</td>\n",
              "    </tr>\n",
              "    <tr>\n",
              "      <th>3</th>\n",
              "      <td>1</td>\n",
              "      <td>2015-01-11</td>\n",
              "      <td>3</td>\n",
              "      <td>7</td>\n",
              "    </tr>\n",
              "    <tr>\n",
              "      <th>4</th>\n",
              "      <td>1</td>\n",
              "      <td>2015-01-11</td>\n",
              "      <td>4</td>\n",
              "      <td>9</td>\n",
              "    </tr>\n",
              "    <tr>\n",
              "      <th>...</th>\n",
              "      <td>...</td>\n",
              "      <td>...</td>\n",
              "      <td>...</td>\n",
              "      <td>...</td>\n",
              "    </tr>\n",
              "    <tr>\n",
              "      <th>48115</th>\n",
              "      <td>4</td>\n",
              "      <td>2017-12-06</td>\n",
              "      <td>19</td>\n",
              "      <td>10</td>\n",
              "    </tr>\n",
              "    <tr>\n",
              "      <th>48116</th>\n",
              "      <td>4</td>\n",
              "      <td>2017-12-06</td>\n",
              "      <td>20</td>\n",
              "      <td>7</td>\n",
              "    </tr>\n",
              "    <tr>\n",
              "      <th>48117</th>\n",
              "      <td>4</td>\n",
              "      <td>2017-12-06</td>\n",
              "      <td>21</td>\n",
              "      <td>8</td>\n",
              "    </tr>\n",
              "    <tr>\n",
              "      <th>48118</th>\n",
              "      <td>4</td>\n",
              "      <td>2017-12-06</td>\n",
              "      <td>22</td>\n",
              "      <td>11</td>\n",
              "    </tr>\n",
              "    <tr>\n",
              "      <th>48119</th>\n",
              "      <td>4</td>\n",
              "      <td>2017-12-06</td>\n",
              "      <td>23</td>\n",
              "      <td>11</td>\n",
              "    </tr>\n",
              "  </tbody>\n",
              "</table>\n",
              "<p>48120 rows × 4 columns</p>\n",
              "</div>"
            ],
            "text/plain": [
              "       Junction        Date  Hour  Vehicles\n",
              "0             1  2015-01-11     0        15\n",
              "1             1  2015-01-11     1        13\n",
              "2             1  2015-01-11     2        10\n",
              "3             1  2015-01-11     3         7\n",
              "4             1  2015-01-11     4         9\n",
              "...         ...         ...   ...       ...\n",
              "48115         4  2017-12-06    19        10\n",
              "48116         4  2017-12-06    20         7\n",
              "48117         4  2017-12-06    21         8\n",
              "48118         4  2017-12-06    22        11\n",
              "48119         4  2017-12-06    23        11\n",
              "\n",
              "[48120 rows x 4 columns]"
            ]
          },
          "execution_count": 147,
          "metadata": {},
          "output_type": "execute_result"
        }
      ],
      "source": [
        "df_grouped"
      ]
    },
    {
      "cell_type": "markdown",
      "metadata": {
        "id": "-jAxS8tepHTt"
      },
      "source": [
        "### Preprocess the data:\n",
        "\n",
        "Normalize or standardize the data to facilitate comparison across different time periods and junctions.\n"
      ]
    },
    {
      "cell_type": "code",
      "execution_count": 148,
      "metadata": {
        "id": "JXDCD_-NpHTt"
      },
      "outputs": [],
      "source": [
        "from sklearn.preprocessing import StandardScaler\n",
        "\n",
        "scaler = StandardScaler()\n",
        "\n",
        "df_grouped['Vehicles'] = scaler.fit_transform(df_grouped[['Vehicles']])"
      ]
    },
    {
      "cell_type": "code",
      "execution_count": 149,
      "metadata": {
        "id": "WGRkr5JGpHTt",
        "outputId": "ec027962-7c24-49d5-dac7-8736dde0008c"
      },
      "outputs": [
        {
          "data": {
            "text/html": [
              "<div>\n",
              "<style scoped>\n",
              "    .dataframe tbody tr th:only-of-type {\n",
              "        vertical-align: middle;\n",
              "    }\n",
              "\n",
              "    .dataframe tbody tr th {\n",
              "        vertical-align: top;\n",
              "    }\n",
              "\n",
              "    .dataframe thead th {\n",
              "        text-align: right;\n",
              "    }\n",
              "</style>\n",
              "<table border=\"1\" class=\"dataframe\">\n",
              "  <thead>\n",
              "    <tr style=\"text-align: right;\">\n",
              "      <th></th>\n",
              "      <th>Junction</th>\n",
              "      <th>Date</th>\n",
              "      <th>Hour</th>\n",
              "      <th>Vehicles</th>\n",
              "    </tr>\n",
              "  </thead>\n",
              "  <tbody>\n",
              "    <tr>\n",
              "      <th>0</th>\n",
              "      <td>1</td>\n",
              "      <td>2015-01-11</td>\n",
              "      <td>0</td>\n",
              "      <td>-0.375489</td>\n",
              "    </tr>\n",
              "    <tr>\n",
              "      <th>1</th>\n",
              "      <td>1</td>\n",
              "      <td>2015-01-11</td>\n",
              "      <td>1</td>\n",
              "      <td>-0.471875</td>\n",
              "    </tr>\n",
              "    <tr>\n",
              "      <th>2</th>\n",
              "      <td>1</td>\n",
              "      <td>2015-01-11</td>\n",
              "      <td>2</td>\n",
              "      <td>-0.616454</td>\n",
              "    </tr>\n",
              "    <tr>\n",
              "      <th>3</th>\n",
              "      <td>1</td>\n",
              "      <td>2015-01-11</td>\n",
              "      <td>3</td>\n",
              "      <td>-0.761034</td>\n",
              "    </tr>\n",
              "    <tr>\n",
              "      <th>4</th>\n",
              "      <td>1</td>\n",
              "      <td>2015-01-11</td>\n",
              "      <td>4</td>\n",
              "      <td>-0.664648</td>\n",
              "    </tr>\n",
              "    <tr>\n",
              "      <th>...</th>\n",
              "      <td>...</td>\n",
              "      <td>...</td>\n",
              "      <td>...</td>\n",
              "      <td>...</td>\n",
              "    </tr>\n",
              "    <tr>\n",
              "      <th>48115</th>\n",
              "      <td>4</td>\n",
              "      <td>2017-12-06</td>\n",
              "      <td>19</td>\n",
              "      <td>-0.616454</td>\n",
              "    </tr>\n",
              "    <tr>\n",
              "      <th>48116</th>\n",
              "      <td>4</td>\n",
              "      <td>2017-12-06</td>\n",
              "      <td>20</td>\n",
              "      <td>-0.761034</td>\n",
              "    </tr>\n",
              "    <tr>\n",
              "      <th>48117</th>\n",
              "      <td>4</td>\n",
              "      <td>2017-12-06</td>\n",
              "      <td>21</td>\n",
              "      <td>-0.712841</td>\n",
              "    </tr>\n",
              "    <tr>\n",
              "      <th>48118</th>\n",
              "      <td>4</td>\n",
              "      <td>2017-12-06</td>\n",
              "      <td>22</td>\n",
              "      <td>-0.568261</td>\n",
              "    </tr>\n",
              "    <tr>\n",
              "      <th>48119</th>\n",
              "      <td>4</td>\n",
              "      <td>2017-12-06</td>\n",
              "      <td>23</td>\n",
              "      <td>-0.568261</td>\n",
              "    </tr>\n",
              "  </tbody>\n",
              "</table>\n",
              "<p>48120 rows × 4 columns</p>\n",
              "</div>"
            ],
            "text/plain": [
              "       Junction        Date  Hour  Vehicles\n",
              "0             1  2015-01-11     0 -0.375489\n",
              "1             1  2015-01-11     1 -0.471875\n",
              "2             1  2015-01-11     2 -0.616454\n",
              "3             1  2015-01-11     3 -0.761034\n",
              "4             1  2015-01-11     4 -0.664648\n",
              "...         ...         ...   ...       ...\n",
              "48115         4  2017-12-06    19 -0.616454\n",
              "48116         4  2017-12-06    20 -0.761034\n",
              "48117         4  2017-12-06    21 -0.712841\n",
              "48118         4  2017-12-06    22 -0.568261\n",
              "48119         4  2017-12-06    23 -0.568261\n",
              "\n",
              "[48120 rows x 4 columns]"
            ]
          },
          "execution_count": 149,
          "metadata": {},
          "output_type": "execute_result"
        }
      ],
      "source": [
        "df_grouped"
      ]
    },
    {
      "cell_type": "markdown",
      "metadata": {
        "id": "PfbuL0j0pHTt"
      },
      "source": [
        "## TASK : Feature Engineering and Selection\n"
      ]
    },
    {
      "cell_type": "markdown",
      "metadata": {
        "id": "9nXNvUvWpHTt"
      },
      "source": [
        "### Create new features from raw data:\n",
        "1. Generate time-based features such as hour of the day, day of the week, and month.\n",
        "2. Develop lag features by including traffic data from previous hours or days to capture temporal dependencies.\n",
        "3. Create binary indicators for weekends and special events to account for their impact on traffic."
      ]
    },
    {
      "cell_type": "code",
      "execution_count": 150,
      "metadata": {
        "id": "mSCp24eUpHTt"
      },
      "outputs": [],
      "source": [
        "# 1. Generate time-based features such as hour of the day, day of the week, and month.\n",
        "\n",
        "df_grouped['hour_of_the_day'] = df['DateTime'].dt.hour\n",
        "df_grouped['day_of_the_week'] = df['DateTime'].dt.day_of_week\n",
        "df_grouped['month'] = df['DateTime'].dt.month"
      ]
    },
    {
      "cell_type": "code",
      "execution_count": 151,
      "metadata": {
        "id": "y7SAIxgZpHTt",
        "outputId": "adbbe43a-d552-4d06-a342-7044d549be72"
      },
      "outputs": [
        {
          "data": {
            "text/html": [
              "<div>\n",
              "<style scoped>\n",
              "    .dataframe tbody tr th:only-of-type {\n",
              "        vertical-align: middle;\n",
              "    }\n",
              "\n",
              "    .dataframe tbody tr th {\n",
              "        vertical-align: top;\n",
              "    }\n",
              "\n",
              "    .dataframe thead th {\n",
              "        text-align: right;\n",
              "    }\n",
              "</style>\n",
              "<table border=\"1\" class=\"dataframe\">\n",
              "  <thead>\n",
              "    <tr style=\"text-align: right;\">\n",
              "      <th></th>\n",
              "      <th>Junction</th>\n",
              "      <th>Date</th>\n",
              "      <th>Hour</th>\n",
              "      <th>Vehicles</th>\n",
              "      <th>hour_of_the_day</th>\n",
              "      <th>day_of_the_week</th>\n",
              "      <th>month</th>\n",
              "    </tr>\n",
              "  </thead>\n",
              "  <tbody>\n",
              "    <tr>\n",
              "      <th>0</th>\n",
              "      <td>1</td>\n",
              "      <td>2015-01-11</td>\n",
              "      <td>0</td>\n",
              "      <td>-0.375489</td>\n",
              "      <td>0</td>\n",
              "      <td>6</td>\n",
              "      <td>1</td>\n",
              "    </tr>\n",
              "    <tr>\n",
              "      <th>1</th>\n",
              "      <td>1</td>\n",
              "      <td>2015-01-11</td>\n",
              "      <td>1</td>\n",
              "      <td>-0.471875</td>\n",
              "      <td>1</td>\n",
              "      <td>6</td>\n",
              "      <td>1</td>\n",
              "    </tr>\n",
              "    <tr>\n",
              "      <th>2</th>\n",
              "      <td>1</td>\n",
              "      <td>2015-01-11</td>\n",
              "      <td>2</td>\n",
              "      <td>-0.616454</td>\n",
              "      <td>2</td>\n",
              "      <td>6</td>\n",
              "      <td>1</td>\n",
              "    </tr>\n",
              "    <tr>\n",
              "      <th>3</th>\n",
              "      <td>1</td>\n",
              "      <td>2015-01-11</td>\n",
              "      <td>3</td>\n",
              "      <td>-0.761034</td>\n",
              "      <td>3</td>\n",
              "      <td>6</td>\n",
              "      <td>1</td>\n",
              "    </tr>\n",
              "    <tr>\n",
              "      <th>4</th>\n",
              "      <td>1</td>\n",
              "      <td>2015-01-11</td>\n",
              "      <td>4</td>\n",
              "      <td>-0.664648</td>\n",
              "      <td>4</td>\n",
              "      <td>6</td>\n",
              "      <td>1</td>\n",
              "    </tr>\n",
              "  </tbody>\n",
              "</table>\n",
              "</div>"
            ],
            "text/plain": [
              "   Junction        Date  Hour  Vehicles  hour_of_the_day  day_of_the_week  \\\n",
              "0         1  2015-01-11     0 -0.375489                0                6   \n",
              "1         1  2015-01-11     1 -0.471875                1                6   \n",
              "2         1  2015-01-11     2 -0.616454                2                6   \n",
              "3         1  2015-01-11     3 -0.761034                3                6   \n",
              "4         1  2015-01-11     4 -0.664648                4                6   \n",
              "\n",
              "   month  \n",
              "0      1  \n",
              "1      1  \n",
              "2      1  \n",
              "3      1  \n",
              "4      1  "
            ]
          },
          "execution_count": 151,
          "metadata": {},
          "output_type": "execute_result"
        }
      ],
      "source": [
        "df_grouped.head()"
      ]
    },
    {
      "cell_type": "code",
      "execution_count": 152,
      "metadata": {
        "id": "kR5struKpHTu"
      },
      "outputs": [],
      "source": [
        "# 2. Develop lag features by including traffic data from previous hours or days to capture temporal dependencies.\n",
        "\n",
        "df_grouped['PreviousHourVehicles'] = df_grouped.groupby('Junction')['Vehicles'].shift(1)"
      ]
    },
    {
      "cell_type": "code",
      "execution_count": 153,
      "metadata": {
        "id": "RKYjixcqpHTu",
        "outputId": "fe7805f2-83ec-41bd-c321-9c95307fddcb"
      },
      "outputs": [
        {
          "data": {
            "text/html": [
              "<div>\n",
              "<style scoped>\n",
              "    .dataframe tbody tr th:only-of-type {\n",
              "        vertical-align: middle;\n",
              "    }\n",
              "\n",
              "    .dataframe tbody tr th {\n",
              "        vertical-align: top;\n",
              "    }\n",
              "\n",
              "    .dataframe thead th {\n",
              "        text-align: right;\n",
              "    }\n",
              "</style>\n",
              "<table border=\"1\" class=\"dataframe\">\n",
              "  <thead>\n",
              "    <tr style=\"text-align: right;\">\n",
              "      <th></th>\n",
              "      <th>Junction</th>\n",
              "      <th>Date</th>\n",
              "      <th>Hour</th>\n",
              "      <th>Vehicles</th>\n",
              "      <th>hour_of_the_day</th>\n",
              "      <th>day_of_the_week</th>\n",
              "      <th>month</th>\n",
              "      <th>PreviousHourVehicles</th>\n",
              "      <th>IsWeekend</th>\n",
              "    </tr>\n",
              "  </thead>\n",
              "  <tbody>\n",
              "    <tr>\n",
              "      <th>0</th>\n",
              "      <td>1</td>\n",
              "      <td>2015-01-11</td>\n",
              "      <td>0</td>\n",
              "      <td>-0.375489</td>\n",
              "      <td>0</td>\n",
              "      <td>6</td>\n",
              "      <td>1</td>\n",
              "      <td>NaN</td>\n",
              "      <td>True</td>\n",
              "    </tr>\n",
              "    <tr>\n",
              "      <th>1</th>\n",
              "      <td>1</td>\n",
              "      <td>2015-01-11</td>\n",
              "      <td>1</td>\n",
              "      <td>-0.471875</td>\n",
              "      <td>1</td>\n",
              "      <td>6</td>\n",
              "      <td>1</td>\n",
              "      <td>-0.375489</td>\n",
              "      <td>True</td>\n",
              "    </tr>\n",
              "    <tr>\n",
              "      <th>2</th>\n",
              "      <td>1</td>\n",
              "      <td>2015-01-11</td>\n",
              "      <td>2</td>\n",
              "      <td>-0.616454</td>\n",
              "      <td>2</td>\n",
              "      <td>6</td>\n",
              "      <td>1</td>\n",
              "      <td>-0.471875</td>\n",
              "      <td>True</td>\n",
              "    </tr>\n",
              "    <tr>\n",
              "      <th>3</th>\n",
              "      <td>1</td>\n",
              "      <td>2015-01-11</td>\n",
              "      <td>3</td>\n",
              "      <td>-0.761034</td>\n",
              "      <td>3</td>\n",
              "      <td>6</td>\n",
              "      <td>1</td>\n",
              "      <td>-0.616454</td>\n",
              "      <td>True</td>\n",
              "    </tr>\n",
              "    <tr>\n",
              "      <th>4</th>\n",
              "      <td>1</td>\n",
              "      <td>2015-01-11</td>\n",
              "      <td>4</td>\n",
              "      <td>-0.664648</td>\n",
              "      <td>4</td>\n",
              "      <td>6</td>\n",
              "      <td>1</td>\n",
              "      <td>-0.761034</td>\n",
              "      <td>True</td>\n",
              "    </tr>\n",
              "    <tr>\n",
              "      <th>...</th>\n",
              "      <td>...</td>\n",
              "      <td>...</td>\n",
              "      <td>...</td>\n",
              "      <td>...</td>\n",
              "      <td>...</td>\n",
              "      <td>...</td>\n",
              "      <td>...</td>\n",
              "      <td>...</td>\n",
              "      <td>...</td>\n",
              "    </tr>\n",
              "    <tr>\n",
              "      <th>48115</th>\n",
              "      <td>4</td>\n",
              "      <td>2017-12-06</td>\n",
              "      <td>19</td>\n",
              "      <td>-0.616454</td>\n",
              "      <td>19</td>\n",
              "      <td>4</td>\n",
              "      <td>6</td>\n",
              "      <td>-0.664648</td>\n",
              "      <td>False</td>\n",
              "    </tr>\n",
              "    <tr>\n",
              "      <th>48116</th>\n",
              "      <td>4</td>\n",
              "      <td>2017-12-06</td>\n",
              "      <td>20</td>\n",
              "      <td>-0.761034</td>\n",
              "      <td>20</td>\n",
              "      <td>4</td>\n",
              "      <td>6</td>\n",
              "      <td>-0.616454</td>\n",
              "      <td>False</td>\n",
              "    </tr>\n",
              "    <tr>\n",
              "      <th>48117</th>\n",
              "      <td>4</td>\n",
              "      <td>2017-12-06</td>\n",
              "      <td>21</td>\n",
              "      <td>-0.712841</td>\n",
              "      <td>21</td>\n",
              "      <td>4</td>\n",
              "      <td>6</td>\n",
              "      <td>-0.761034</td>\n",
              "      <td>False</td>\n",
              "    </tr>\n",
              "    <tr>\n",
              "      <th>48118</th>\n",
              "      <td>4</td>\n",
              "      <td>2017-12-06</td>\n",
              "      <td>22</td>\n",
              "      <td>-0.568261</td>\n",
              "      <td>22</td>\n",
              "      <td>4</td>\n",
              "      <td>6</td>\n",
              "      <td>-0.712841</td>\n",
              "      <td>False</td>\n",
              "    </tr>\n",
              "    <tr>\n",
              "      <th>48119</th>\n",
              "      <td>4</td>\n",
              "      <td>2017-12-06</td>\n",
              "      <td>23</td>\n",
              "      <td>-0.568261</td>\n",
              "      <td>23</td>\n",
              "      <td>4</td>\n",
              "      <td>6</td>\n",
              "      <td>-0.568261</td>\n",
              "      <td>False</td>\n",
              "    </tr>\n",
              "  </tbody>\n",
              "</table>\n",
              "<p>48120 rows × 9 columns</p>\n",
              "</div>"
            ],
            "text/plain": [
              "       Junction        Date  Hour  Vehicles  hour_of_the_day  day_of_the_week  \\\n",
              "0             1  2015-01-11     0 -0.375489                0                6   \n",
              "1             1  2015-01-11     1 -0.471875                1                6   \n",
              "2             1  2015-01-11     2 -0.616454                2                6   \n",
              "3             1  2015-01-11     3 -0.761034                3                6   \n",
              "4             1  2015-01-11     4 -0.664648                4                6   \n",
              "...         ...         ...   ...       ...              ...              ...   \n",
              "48115         4  2017-12-06    19 -0.616454               19                4   \n",
              "48116         4  2017-12-06    20 -0.761034               20                4   \n",
              "48117         4  2017-12-06    21 -0.712841               21                4   \n",
              "48118         4  2017-12-06    22 -0.568261               22                4   \n",
              "48119         4  2017-12-06    23 -0.568261               23                4   \n",
              "\n",
              "       month  PreviousHourVehicles  IsWeekend  \n",
              "0          1                   NaN       True  \n",
              "1          1             -0.375489       True  \n",
              "2          1             -0.471875       True  \n",
              "3          1             -0.616454       True  \n",
              "4          1             -0.761034       True  \n",
              "...      ...                   ...        ...  \n",
              "48115      6             -0.664648      False  \n",
              "48116      6             -0.616454      False  \n",
              "48117      6             -0.761034      False  \n",
              "48118      6             -0.712841      False  \n",
              "48119      6             -0.568261      False  \n",
              "\n",
              "[48120 rows x 9 columns]"
            ]
          },
          "execution_count": 153,
          "metadata": {},
          "output_type": "execute_result"
        }
      ],
      "source": [
        "# 3. Create binary indicators for weekends and special events to account for their impact on traffic.\n",
        "\n",
        "df_grouped['IsWeekend'] = df.DateTime.dt.day_of_week > 5\n",
        "df_grouped"
      ]
    },
    {
      "cell_type": "markdown",
      "metadata": {
        "id": "Thz_jKpRpHTu"
      },
      "source": [
        "### Evaluate feature importance:\n",
        "1. Use statistical methods and machine learning techniques (e.g., correlation analysis, feature importance from tree-based models) to assess the relevance of each feature.\n",
        "2. Select the most influential features for model training to improve efficiency and performance."
      ]
    },
    {
      "cell_type": "code",
      "execution_count": 154,
      "metadata": {
        "id": "aqsepsPwpHTu"
      },
      "outputs": [],
      "source": [
        "final_df = df_grouped.drop(['Hour', 'Date'], axis=1)"
      ]
    },
    {
      "cell_type": "code",
      "execution_count": 155,
      "metadata": {
        "id": "zaREMKtFpHTu",
        "outputId": "02ffb627-511c-433c-9d32-991903a9e977"
      },
      "outputs": [
        {
          "name": "stdout",
          "output_type": "stream",
          "text": [
            "Vehicles                1.000000\n",
            "PreviousHourVehicles    0.968447\n",
            "hour_of_the_day         0.219938\n",
            "month                   0.029378\n",
            "IsWeekend              -0.062641\n",
            "day_of_the_week        -0.070267\n",
            "Junction               -0.613787\n",
            "Name: Vehicles, dtype: float64\n"
          ]
        }
      ],
      "source": [
        "# Correlation Matrix\n",
        "correlation_matrix = final_df.corr()\n",
        "\n",
        "print(correlation_matrix['Vehicles'].sort_values(ascending=False))"
      ]
    },
    {
      "cell_type": "code",
      "execution_count": 156,
      "metadata": {
        "id": "gxN9O5UopHTv"
      },
      "outputs": [],
      "source": [
        "final_df = final_df.dropna()"
      ]
    },
    {
      "cell_type": "code",
      "execution_count": 157,
      "metadata": {
        "id": "yT1TCjVGpHTv"
      },
      "outputs": [],
      "source": [
        "# Assuming 'Vehicles' is the target variable\n",
        "X = final_df.drop(columns=['Vehicles'])\n",
        "y = final_df['Vehicles']"
      ]
    },
    {
      "cell_type": "code",
      "execution_count": 158,
      "metadata": {
        "id": "eDXW15RqpHTv",
        "outputId": "3a500e84-1181-4009-c085-c9769de4c962"
      },
      "outputs": [
        {
          "data": {
            "text/html": [
              "<style>#sk-container-id-5 {color: black;}#sk-container-id-5 pre{padding: 0;}#sk-container-id-5 div.sk-toggleable {background-color: white;}#sk-container-id-5 label.sk-toggleable__label {cursor: pointer;display: block;width: 100%;margin-bottom: 0;padding: 0.3em;box-sizing: border-box;text-align: center;}#sk-container-id-5 label.sk-toggleable__label-arrow:before {content: \"▸\";float: left;margin-right: 0.25em;color: #696969;}#sk-container-id-5 label.sk-toggleable__label-arrow:hover:before {color: black;}#sk-container-id-5 div.sk-estimator:hover label.sk-toggleable__label-arrow:before {color: black;}#sk-container-id-5 div.sk-toggleable__content {max-height: 0;max-width: 0;overflow: hidden;text-align: left;background-color: #f0f8ff;}#sk-container-id-5 div.sk-toggleable__content pre {margin: 0.2em;color: black;border-radius: 0.25em;background-color: #f0f8ff;}#sk-container-id-5 input.sk-toggleable__control:checked~div.sk-toggleable__content {max-height: 200px;max-width: 100%;overflow: auto;}#sk-container-id-5 input.sk-toggleable__control:checked~label.sk-toggleable__label-arrow:before {content: \"▾\";}#sk-container-id-5 div.sk-estimator input.sk-toggleable__control:checked~label.sk-toggleable__label {background-color: #d4ebff;}#sk-container-id-5 div.sk-label input.sk-toggleable__control:checked~label.sk-toggleable__label {background-color: #d4ebff;}#sk-container-id-5 input.sk-hidden--visually {border: 0;clip: rect(1px 1px 1px 1px);clip: rect(1px, 1px, 1px, 1px);height: 1px;margin: -1px;overflow: hidden;padding: 0;position: absolute;width: 1px;}#sk-container-id-5 div.sk-estimator {font-family: monospace;background-color: #f0f8ff;border: 1px dotted black;border-radius: 0.25em;box-sizing: border-box;margin-bottom: 0.5em;}#sk-container-id-5 div.sk-estimator:hover {background-color: #d4ebff;}#sk-container-id-5 div.sk-parallel-item::after {content: \"\";width: 100%;border-bottom: 1px solid gray;flex-grow: 1;}#sk-container-id-5 div.sk-label:hover label.sk-toggleable__label {background-color: #d4ebff;}#sk-container-id-5 div.sk-serial::before {content: \"\";position: absolute;border-left: 1px solid gray;box-sizing: border-box;top: 0;bottom: 0;left: 50%;z-index: 0;}#sk-container-id-5 div.sk-serial {display: flex;flex-direction: column;align-items: center;background-color: white;padding-right: 0.2em;padding-left: 0.2em;position: relative;}#sk-container-id-5 div.sk-item {position: relative;z-index: 1;}#sk-container-id-5 div.sk-parallel {display: flex;align-items: stretch;justify-content: center;background-color: white;position: relative;}#sk-container-id-5 div.sk-item::before, #sk-container-id-5 div.sk-parallel-item::before {content: \"\";position: absolute;border-left: 1px solid gray;box-sizing: border-box;top: 0;bottom: 0;left: 50%;z-index: -1;}#sk-container-id-5 div.sk-parallel-item {display: flex;flex-direction: column;z-index: 1;position: relative;background-color: white;}#sk-container-id-5 div.sk-parallel-item:first-child::after {align-self: flex-end;width: 50%;}#sk-container-id-5 div.sk-parallel-item:last-child::after {align-self: flex-start;width: 50%;}#sk-container-id-5 div.sk-parallel-item:only-child::after {width: 0;}#sk-container-id-5 div.sk-dashed-wrapped {border: 1px dashed gray;margin: 0 0.4em 0.5em 0.4em;box-sizing: border-box;padding-bottom: 0.4em;background-color: white;}#sk-container-id-5 div.sk-label label {font-family: monospace;font-weight: bold;display: inline-block;line-height: 1.2em;}#sk-container-id-5 div.sk-label-container {text-align: center;}#sk-container-id-5 div.sk-container {/* jupyter's `normalize.less` sets `[hidden] { display: none; }` but bootstrap.min.css set `[hidden] { display: none !important; }` so we also need the `!important` here to be able to override the default hidden behavior on the sphinx rendered scikit-learn.org. See: https://github.com/scikit-learn/scikit-learn/issues/21755 */display: inline-block !important;position: relative;}#sk-container-id-5 div.sk-text-repr-fallback {display: none;}</style><div id=\"sk-container-id-5\" class=\"sk-top-container\"><div class=\"sk-text-repr-fallback\"><pre>RandomForestRegressor(random_state=42)</pre><b>In a Jupyter environment, please rerun this cell to show the HTML representation or trust the notebook. <br />On GitHub, the HTML representation is unable to render, please try loading this page with nbviewer.org.</b></div><div class=\"sk-container\" hidden><div class=\"sk-item\"><div class=\"sk-estimator sk-toggleable\"><input class=\"sk-toggleable__control sk-hidden--visually\" id=\"sk-estimator-id-5\" type=\"checkbox\" checked><label for=\"sk-estimator-id-5\" class=\"sk-toggleable__label sk-toggleable__label-arrow\">RandomForestRegressor</label><div class=\"sk-toggleable__content\"><pre>RandomForestRegressor(random_state=42)</pre></div></div></div></div></div>"
            ],
            "text/plain": [
              "RandomForestRegressor(random_state=42)"
            ]
          },
          "execution_count": 158,
          "metadata": {},
          "output_type": "execute_result"
        }
      ],
      "source": [
        "# Feature importance from RandomForest\n",
        "\n",
        "from sklearn.ensemble import RandomForestRegressor\n",
        "\n",
        "model = RandomForestRegressor(n_estimators=100, random_state=42)\n",
        "model.fit(X, y)"
      ]
    },
    {
      "cell_type": "code",
      "execution_count": 159,
      "metadata": {
        "id": "EPFzrWGHpHTv"
      },
      "outputs": [],
      "source": [
        "importances = model.feature_importances_\n",
        "feature_names = X.columns\n"
      ]
    },
    {
      "cell_type": "code",
      "execution_count": 160,
      "metadata": {
        "id": "PZ21tl4EpHTv",
        "outputId": "72271937-25d8-42c7-fce5-806deda8b0e9"
      },
      "outputs": [
        {
          "data": {
            "image/png": "[encoded data removed]",
            "text/plain": [
              "<Figure size 1000x600 with 1 Axes>"
            ]
          },
          "metadata": {},
          "output_type": "display_data"
        }
      ],
      "source": [
        "feature_importance_df = pd.DataFrame({'Feature': feature_names, 'Importance': importances})\n",
        "feature_importance_df = feature_importance_df.sort_values(by='Importance', ascending=False)\n",
        "\n",
        "plt.figure(figsize=(10, 6))\n",
        "sns.barplot(x='Importance', y='Feature', data=feature_importance_df)\n",
        "plt.title('Feature Importance from Random Forest')\n",
        "plt.show()\n"
      ]
    },
    {
      "cell_type": "code",
      "execution_count": 161,
      "metadata": {
        "id": "nWPUXWE9pHTw",
        "outputId": "771d65fb-8a29-4d7c-c90a-2ec8a46d61bb"
      },
      "outputs": [
        {
          "data": {
            "text/html": [
              "<style>#sk-container-id-6 {color: black;}#sk-container-id-6 pre{padding: 0;}#sk-container-id-6 div.sk-toggleable {background-color: white;}#sk-container-id-6 label.sk-toggleable__label {cursor: pointer;display: block;width: 100%;margin-bottom: 0;padding: 0.3em;box-sizing: border-box;text-align: center;}#sk-container-id-6 label.sk-toggleable__label-arrow:before {content: \"▸\";float: left;margin-right: 0.25em;color: #696969;}#sk-container-id-6 label.sk-toggleable__label-arrow:hover:before {color: black;}#sk-container-id-6 div.sk-estimator:hover label.sk-toggleable__label-arrow:before {color: black;}#sk-container-id-6 div.sk-toggleable__content {max-height: 0;max-width: 0;overflow: hidden;text-align: left;background-color: #f0f8ff;}#sk-container-id-6 div.sk-toggleable__content pre {margin: 0.2em;color: black;border-radius: 0.25em;background-color: #f0f8ff;}#sk-container-id-6 input.sk-toggleable__control:checked~div.sk-toggleable__content {max-height: 200px;max-width: 100%;overflow: auto;}#sk-container-id-6 input.sk-toggleable__control:checked~label.sk-toggleable__label-arrow:before {content: \"▾\";}#sk-container-id-6 div.sk-estimator input.sk-toggleable__control:checked~label.sk-toggleable__label {background-color: #d4ebff;}#sk-container-id-6 div.sk-label input.sk-toggleable__control:checked~label.sk-toggleable__label {background-color: #d4ebff;}#sk-container-id-6 input.sk-hidden--visually {border: 0;clip: rect(1px 1px 1px 1px);clip: rect(1px, 1px, 1px, 1px);height: 1px;margin: -1px;overflow: hidden;padding: 0;position: absolute;width: 1px;}#sk-container-id-6 div.sk-estimator {font-family: monospace;background-color: #f0f8ff;border: 1px dotted black;border-radius: 0.25em;box-sizing: border-box;margin-bottom: 0.5em;}#sk-container-id-6 div.sk-estimator:hover {background-color: #d4ebff;}#sk-container-id-6 div.sk-parallel-item::after {content: \"\";width: 100%;border-bottom: 1px solid gray;flex-grow: 1;}#sk-container-id-6 div.sk-label:hover label.sk-toggleable__label {background-color: #d4ebff;}#sk-container-id-6 div.sk-serial::before {content: \"\";position: absolute;border-left: 1px solid gray;box-sizing: border-box;top: 0;bottom: 0;left: 50%;z-index: 0;}#sk-container-id-6 div.sk-serial {display: flex;flex-direction: column;align-items: center;background-color: white;padding-right: 0.2em;padding-left: 0.2em;position: relative;}#sk-container-id-6 div.sk-item {position: relative;z-index: 1;}#sk-container-id-6 div.sk-parallel {display: flex;align-items: stretch;justify-content: center;background-color: white;position: relative;}#sk-container-id-6 div.sk-item::before, #sk-container-id-6 div.sk-parallel-item::before {content: \"\";position: absolute;border-left: 1px solid gray;box-sizing: border-box;top: 0;bottom: 0;left: 50%;z-index: -1;}#sk-container-id-6 div.sk-parallel-item {display: flex;flex-direction: column;z-index: 1;position: relative;background-color: white;}#sk-container-id-6 div.sk-parallel-item:first-child::after {align-self: flex-end;width: 50%;}#sk-container-id-6 div.sk-parallel-item:last-child::after {align-self: flex-start;width: 50%;}#sk-container-id-6 div.sk-parallel-item:only-child::after {width: 0;}#sk-container-id-6 div.sk-dashed-wrapped {border: 1px dashed gray;margin: 0 0.4em 0.5em 0.4em;box-sizing: border-box;padding-bottom: 0.4em;background-color: white;}#sk-container-id-6 div.sk-label label {font-family: monospace;font-weight: bold;display: inline-block;line-height: 1.2em;}#sk-container-id-6 div.sk-label-container {text-align: center;}#sk-container-id-6 div.sk-container {/* jupyter's `normalize.less` sets `[hidden] { display: none; }` but bootstrap.min.css set `[hidden] { display: none !important; }` so we also need the `!important` here to be able to override the default hidden behavior on the sphinx rendered scikit-learn.org. See: https://github.com/scikit-learn/scikit-learn/issues/21755 */display: inline-block !important;position: relative;}#sk-container-id-6 div.sk-text-repr-fallback {display: none;}</style><div id=\"sk-container-id-6\" class=\"sk-top-container\"><div class=\"sk-text-repr-fallback\"><pre>GradientBoostingRegressor(random_state=42)</pre><b>In a Jupyter environment, please rerun this cell to show the HTML representation or trust the notebook. <br />On GitHub, the HTML representation is unable to render, please try loading this page with nbviewer.org.</b></div><div class=\"sk-container\" hidden><div class=\"sk-item\"><div class=\"sk-estimator sk-toggleable\"><input class=\"sk-toggleable__control sk-hidden--visually\" id=\"sk-estimator-id-6\" type=\"checkbox\" checked><label for=\"sk-estimator-id-6\" class=\"sk-toggleable__label sk-toggleable__label-arrow\">GradientBoostingRegressor</label><div class=\"sk-toggleable__content\"><pre>GradientBoostingRegressor(random_state=42)</pre></div></div></div></div></div>"
            ],
            "text/plain": [
              "GradientBoostingRegressor(random_state=42)"
            ]
          },
          "execution_count": 161,
          "metadata": {},
          "output_type": "execute_result"
        }
      ],
      "source": [
        "# Feature Importance from GradientBoostingRegressor\n",
        "\n",
        "from sklearn.ensemble import GradientBoostingRegressor\n",
        "\n",
        "gbr_model = GradientBoostingRegressor(n_estimators=100, random_state=42)\n",
        "gbr_model.fit(X, y)"
      ]
    },
    {
      "cell_type": "code",
      "execution_count": 162,
      "metadata": {
        "id": "p93NYG4vpHT5",
        "outputId": "4aa5b1ba-c72a-4167-a232-fe7cfc11eaae"
      },
      "outputs": [
        {
          "data": {
            "text/plain": [
              "array([6.91679744e-03, 1.72819447e-02, 1.40642916e-04, 1.32404300e-04,\n",
              "       9.75528211e-01, 0.00000000e+00])"
            ]
          },
          "execution_count": 162,
          "metadata": {},
          "output_type": "execute_result"
        }
      ],
      "source": [
        "gbr_importances = gbr_model.feature_importances_\n",
        "gbr_importances"
      ]
    },
    {
      "cell_type": "code",
      "execution_count": 163,
      "metadata": {
        "id": "GLHHsvXkpHT5",
        "outputId": "cf00baeb-a8b7-4944-9b08-997fbb712aa7"
      },
      "outputs": [
        {
          "data": {
            "image/png": "[encoded data removed]",
            "text/plain": [
              "<Figure size 1000x600 with 1 Axes>"
            ]
          },
          "metadata": {},
          "output_type": "display_data"
        }
      ],
      "source": [
        "gbr_feature_importance_df = pd.DataFrame({'Feature': feature_names, 'Importance': gbr_importances})\n",
        "gbr_feature_importance_df = gbr_feature_importance_df.sort_values(by='Importance', ascending=False)\n",
        "\n",
        "\n",
        "plt.figure(figsize=(10, 6))\n",
        "sns.barplot(x='Importance', y='Feature', data=gbr_feature_importance_df)\n",
        "plt.title('Feature Importance from Gradient Boosting')\n",
        "plt.show()\n"
      ]
    },
    {
      "cell_type": "code",
      "execution_count": 164,
      "metadata": {
        "id": "EI9oNMV9pHT5"
      },
      "outputs": [],
      "source": [
        "# 2. Select the most influential features for model training to improve efficiency and performance.\n",
        "\n",
        "top_features = feature_importance_df['Feature'].head(3).tolist()\n",
        "X_selected = X[top_features]\n"
      ]
    },
    {
      "cell_type": "code",
      "execution_count": 166,
      "metadata": {},
      "outputs": [],
      "source": [
        "df_grouped.to_csv('final_df.csv')"
      ]
    }
  ],
  "metadata": {
    "colab": {
      "include_colab_link": true,
      "provenance": []
    },
    "kernelspec": {
      "display_name": "base",
      "language": "python",
      "name": "python3"
    },
    "language_info": {
      "codemirror_mode": {
        "name": "ipython",
        "version": 3
      },
      "file_extension": ".py",
      "mimetype": "text/x-python",
      "name": "python",
      "nbconvert_exporter": "python",
      "pygments_lexer": "ipython3",
      "version": "3.11.4"
    }
  },
  "nbformat": 4,
  "nbformat_minor": 0
}
