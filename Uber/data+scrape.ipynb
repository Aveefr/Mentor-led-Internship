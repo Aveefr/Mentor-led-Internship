{
 "cells": [
  {
   "cell_type": "code",
   "execution_count": 21,
   "metadata": {},
   "outputs": [],
   "source": [
    "import pandas as pd\n",
    "import numpy as np"
   ]
  },
  {
   "cell_type": "code",
   "execution_count": 22,
   "metadata": {},
   "outputs": [],
   "source": [
    "humid = pd.read_csv('archive (1)\\humidity.csv')[pd.read_csv('archive (1)\\humidity.csv')['datetime'].between('2015-11-01 01:00:00', '2017-06-31 00:00:00')]['San Antonio']\n",
    "weather = pd.read_csv('archive (1)\\weather_description.csv')[pd.read_csv('archive (1)\\weather_description.csv')['datetime'].between('2015-11-01 01:00:00', '2017-06-31 00:00:00')]['San Antonio']\n",
    "temp = pd.read_csv('archive (1)\\\\temperature.csv')[pd.read_csv('archive (1)\\\\temperature.csv')['datetime'].between('2015-11-01 01:00:00', '2017-06-31 00:00:00')]['San Antonio']"
   ]
  },
  {
   "cell_type": "code",
   "execution_count": 23,
   "metadata": {},
   "outputs": [],
   "source": [
    "date = pd.read_csv('archive (1)\\\\temperature.csv')[pd.read_csv('archive (1)\\\\temperature.csv')['datetime'].between('2015-11-01 01:00:00', '2017-06-31 00:00:00')]['datetime'].str.split().str[0]\n",
    "time = pd.read_csv('archive (1)\\\\temperature.csv')[pd.read_csv('archive (1)\\\\temperature.csv')['datetime'].between('2015-11-01 01:00:00', '2017-06-31 00:00:00')]['datetime'].str.split().str[1]"
   ]
  },
  {
   "cell_type": "code",
   "execution_count": 24,
   "metadata": {},
   "outputs": [],
   "source": [
    "col = ['date', 'time', 'humidity', 'weather', 'temperature']"
   ]
  },
  {
   "cell_type": "code",
   "execution_count": 25,
   "metadata": {},
   "outputs": [
    {
     "data": {
      "text/html": [
       "<div>\n",
       "<style scoped>\n",
       "    .dataframe tbody tr th:only-of-type {\n",
       "        vertical-align: middle;\n",
       "    }\n",
       "\n",
       "    .dataframe tbody tr th {\n",
       "        vertical-align: top;\n",
       "    }\n",
       "\n",
       "    .dataframe thead th {\n",
       "        text-align: right;\n",
       "    }\n",
       "</style>\n",
       "<table border=\"1\" class=\"dataframe\">\n",
       "  <thead>\n",
       "    <tr style=\"text-align: right;\">\n",
       "      <th></th>\n",
       "      <th>datetime</th>\n",
       "      <th>datetime</th>\n",
       "      <th>San Antonio</th>\n",
       "      <th>San Antonio</th>\n",
       "      <th>San Antonio</th>\n",
       "    </tr>\n",
       "  </thead>\n",
       "  <tbody>\n",
       "    <tr>\n",
       "      <th>27013</th>\n",
       "      <td>2015-11-01</td>\n",
       "      <td>01:00:00</td>\n",
       "      <td>75.0</td>\n",
       "      <td>broken clouds</td>\n",
       "      <td>295.935188</td>\n",
       "    </tr>\n",
       "    <tr>\n",
       "      <th>27014</th>\n",
       "      <td>2015-11-01</td>\n",
       "      <td>02:00:00</td>\n",
       "      <td>82.0</td>\n",
       "      <td>mist</td>\n",
       "      <td>293.860000</td>\n",
       "    </tr>\n",
       "    <tr>\n",
       "      <th>27015</th>\n",
       "      <td>2015-11-01</td>\n",
       "      <td>03:00:00</td>\n",
       "      <td>87.0</td>\n",
       "      <td>overcast clouds</td>\n",
       "      <td>293.104524</td>\n",
       "    </tr>\n",
       "    <tr>\n",
       "      <th>27016</th>\n",
       "      <td>2015-11-01</td>\n",
       "      <td>04:00:00</td>\n",
       "      <td>93.0</td>\n",
       "      <td>light rain</td>\n",
       "      <td>292.280000</td>\n",
       "    </tr>\n",
       "    <tr>\n",
       "      <th>27017</th>\n",
       "      <td>2015-11-01</td>\n",
       "      <td>05:00:00</td>\n",
       "      <td>77.0</td>\n",
       "      <td>overcast clouds</td>\n",
       "      <td>291.650000</td>\n",
       "    </tr>\n",
       "  </tbody>\n",
       "</table>\n",
       "</div>"
      ],
      "text/plain": [
       "         datetime  datetime  San Antonio      San Antonio  San Antonio\n",
       "27013  2015-11-01  01:00:00         75.0    broken clouds   295.935188\n",
       "27014  2015-11-01  02:00:00         82.0             mist   293.860000\n",
       "27015  2015-11-01  03:00:00         87.0  overcast clouds   293.104524\n",
       "27016  2015-11-01  04:00:00         93.0       light rain   292.280000\n",
       "27017  2015-11-01  05:00:00         77.0  overcast clouds   291.650000"
      ]
     },
     "execution_count": 25,
     "metadata": {},
     "output_type": "execute_result"
    }
   ],
   "source": [
    "df = pd.concat([date, time ,humid, weather, temp], axis=1)\n",
    "df.head()"
   ]
  },
  {
   "cell_type": "code",
   "execution_count": 26,
   "metadata": {},
   "outputs": [],
   "source": [
    "df.columns = col"
   ]
  },
  {
   "cell_type": "code",
   "execution_count": 27,
   "metadata": {},
   "outputs": [
    {
     "data": {
      "text/html": [
       "<div>\n",
       "<style scoped>\n",
       "    .dataframe tbody tr th:only-of-type {\n",
       "        vertical-align: middle;\n",
       "    }\n",
       "\n",
       "    .dataframe tbody tr th {\n",
       "        vertical-align: top;\n",
       "    }\n",
       "\n",
       "    .dataframe thead th {\n",
       "        text-align: right;\n",
       "    }\n",
       "</style>\n",
       "<table border=\"1\" class=\"dataframe\">\n",
       "  <thead>\n",
       "    <tr style=\"text-align: right;\">\n",
       "      <th></th>\n",
       "      <th>date</th>\n",
       "      <th>time</th>\n",
       "      <th>humidity</th>\n",
       "      <th>weather</th>\n",
       "      <th>temperature</th>\n",
       "    </tr>\n",
       "  </thead>\n",
       "  <tbody>\n",
       "    <tr>\n",
       "      <th>27013</th>\n",
       "      <td>2015-11-01</td>\n",
       "      <td>01:00:00</td>\n",
       "      <td>75.0</td>\n",
       "      <td>broken clouds</td>\n",
       "      <td>295.935188</td>\n",
       "    </tr>\n",
       "    <tr>\n",
       "      <th>27014</th>\n",
       "      <td>2015-11-01</td>\n",
       "      <td>02:00:00</td>\n",
       "      <td>82.0</td>\n",
       "      <td>mist</td>\n",
       "      <td>293.860000</td>\n",
       "    </tr>\n",
       "    <tr>\n",
       "      <th>27015</th>\n",
       "      <td>2015-11-01</td>\n",
       "      <td>03:00:00</td>\n",
       "      <td>87.0</td>\n",
       "      <td>overcast clouds</td>\n",
       "      <td>293.104524</td>\n",
       "    </tr>\n",
       "    <tr>\n",
       "      <th>27016</th>\n",
       "      <td>2015-11-01</td>\n",
       "      <td>04:00:00</td>\n",
       "      <td>93.0</td>\n",
       "      <td>light rain</td>\n",
       "      <td>292.280000</td>\n",
       "    </tr>\n",
       "    <tr>\n",
       "      <th>27017</th>\n",
       "      <td>2015-11-01</td>\n",
       "      <td>05:00:00</td>\n",
       "      <td>77.0</td>\n",
       "      <td>overcast clouds</td>\n",
       "      <td>291.650000</td>\n",
       "    </tr>\n",
       "  </tbody>\n",
       "</table>\n",
       "</div>"
      ],
      "text/plain": [
       "             date      time  humidity          weather  temperature\n",
       "27013  2015-11-01  01:00:00      75.0    broken clouds   295.935188\n",
       "27014  2015-11-01  02:00:00      82.0             mist   293.860000\n",
       "27015  2015-11-01  03:00:00      87.0  overcast clouds   293.104524\n",
       "27016  2015-11-01  04:00:00      93.0       light rain   292.280000\n",
       "27017  2015-11-01  05:00:00      77.0  overcast clouds   291.650000"
      ]
     },
     "execution_count": 27,
     "metadata": {},
     "output_type": "execute_result"
    }
   ],
   "source": [
    "df.head()"
   ]
  },
  {
   "cell_type": "code",
   "execution_count": 28,
   "metadata": {},
   "outputs": [],
   "source": [
    "df.to_csv('weather_data.csv')"
   ]
  },
  {
   "cell_type": "code",
   "execution_count": 29,
   "metadata": {},
   "outputs": [],
   "source": [
    "col = ['holidays', 'date']"
   ]
  },
  {
   "cell_type": "code",
   "execution_count": 30,
   "metadata": {},
   "outputs": [
    {
     "data": {
      "text/html": [
       "<div>\n",
       "<style scoped>\n",
       "    .dataframe tbody tr th:only-of-type {\n",
       "        vertical-align: middle;\n",
       "    }\n",
       "\n",
       "    .dataframe tbody tr th {\n",
       "        vertical-align: top;\n",
       "    }\n",
       "\n",
       "    .dataframe thead th {\n",
       "        text-align: right;\n",
       "    }\n",
       "</style>\n",
       "<table border=\"1\" class=\"dataframe\">\n",
       "  <thead>\n",
       "    <tr style=\"text-align: right;\">\n",
       "      <th></th>\n",
       "      <th>response__holidays__name</th>\n",
       "      <th>response__holidays__date__iso</th>\n",
       "    </tr>\n",
       "  </thead>\n",
       "  <tbody>\n",
       "    <tr>\n",
       "      <th>0</th>\n",
       "      <td>New Year's Day</td>\n",
       "      <td>2014-01-01</td>\n",
       "    </tr>\n",
       "    <tr>\n",
       "      <th>1</th>\n",
       "      <td>Guru Govind Singh Jayanti</td>\n",
       "      <td>2014-01-07</td>\n",
       "    </tr>\n",
       "    <tr>\n",
       "      <th>2</th>\n",
       "      <td>Pongal</td>\n",
       "      <td>2014-01-14</td>\n",
       "    </tr>\n",
       "    <tr>\n",
       "      <th>3</th>\n",
       "      <td>Makar Sankranti</td>\n",
       "      <td>2014-01-14</td>\n",
       "    </tr>\n",
       "    <tr>\n",
       "      <th>4</th>\n",
       "      <td>Milad un-Nabi/Id-e-Milad</td>\n",
       "      <td>2014-01-14</td>\n",
       "    </tr>\n",
       "  </tbody>\n",
       "</table>\n",
       "</div>"
      ],
      "text/plain": [
       "    response__holidays__name response__holidays__date__iso\n",
       "0             New Year's Day                    2014-01-01\n",
       "1  Guru Govind Singh Jayanti                    2014-01-07\n",
       "2                     Pongal                    2014-01-14\n",
       "3            Makar Sankranti                    2014-01-14\n",
       "4   Milad un-Nabi/Id-e-Milad                    2014-01-14"
      ]
     },
     "execution_count": 30,
     "metadata": {},
     "output_type": "execute_result"
    }
   ],
   "source": [
    "holidays = pd.read_csv('HolidaysIN13-17.csv', usecols=['response__holidays__date__iso', 'response__holidays__name'])\n",
    "holidays.head()"
   ]
  },
  {
   "cell_type": "code",
   "execution_count": 31,
   "metadata": {},
   "outputs": [],
   "source": [
    "holidays.columns = col"
   ]
  },
  {
   "cell_type": "code",
   "execution_count": 32,
   "metadata": {},
   "outputs": [
    {
     "data": {
      "text/html": [
       "<div>\n",
       "<style scoped>\n",
       "    .dataframe tbody tr th:only-of-type {\n",
       "        vertical-align: middle;\n",
       "    }\n",
       "\n",
       "    .dataframe tbody tr th {\n",
       "        vertical-align: top;\n",
       "    }\n",
       "\n",
       "    .dataframe thead th {\n",
       "        text-align: right;\n",
       "    }\n",
       "</style>\n",
       "<table border=\"1\" class=\"dataframe\">\n",
       "  <thead>\n",
       "    <tr style=\"text-align: right;\">\n",
       "      <th></th>\n",
       "      <th>holidays</th>\n",
       "      <th>date</th>\n",
       "    </tr>\n",
       "  </thead>\n",
       "  <tbody>\n",
       "    <tr>\n",
       "      <th>0</th>\n",
       "      <td>New Year's Day</td>\n",
       "      <td>2014-01-01</td>\n",
       "    </tr>\n",
       "    <tr>\n",
       "      <th>1</th>\n",
       "      <td>Guru Govind Singh Jayanti</td>\n",
       "      <td>2014-01-07</td>\n",
       "    </tr>\n",
       "    <tr>\n",
       "      <th>2</th>\n",
       "      <td>Pongal</td>\n",
       "      <td>2014-01-14</td>\n",
       "    </tr>\n",
       "    <tr>\n",
       "      <th>3</th>\n",
       "      <td>Makar Sankranti</td>\n",
       "      <td>2014-01-14</td>\n",
       "    </tr>\n",
       "    <tr>\n",
       "      <th>4</th>\n",
       "      <td>Milad un-Nabi/Id-e-Milad</td>\n",
       "      <td>2014-01-14</td>\n",
       "    </tr>\n",
       "  </tbody>\n",
       "</table>\n",
       "</div>"
      ],
      "text/plain": [
       "                    holidays        date\n",
       "0             New Year's Day  2014-01-01\n",
       "1  Guru Govind Singh Jayanti  2014-01-07\n",
       "2                     Pongal  2014-01-14\n",
       "3            Makar Sankranti  2014-01-14\n",
       "4   Milad un-Nabi/Id-e-Milad  2014-01-14"
      ]
     },
     "execution_count": 32,
     "metadata": {},
     "output_type": "execute_result"
    }
   ],
   "source": [
    "holidays.head()"
   ]
  },
  {
   "cell_type": "code",
   "execution_count": 33,
   "metadata": {},
   "outputs": [],
   "source": [
    "holidays = holidays[holidays['date'].between('2015-11-01', '2017-06-31')]"
   ]
  },
  {
   "cell_type": "code",
   "execution_count": 34,
   "metadata": {},
   "outputs": [],
   "source": [
    "holidays.to_csv('holidays.csv')"
   ]
  }
 ],
 "metadata": {
  "kernelspec": {
   "display_name": "base",
   "language": "python",
   "name": "python3"
  },
  "language_info": {
   "codemirror_mode": {
    "name": "ipython",
    "version": 3
   },
   "file_extension": ".py",
   "mimetype": "text/x-python",
   "name": "python",
   "nbconvert_exporter": "python",
   "pygments_lexer": "ipython3",
   "version": "3.11.4"
  }
 },
 "nbformat": 4,
 "nbformat_minor": 2
}
